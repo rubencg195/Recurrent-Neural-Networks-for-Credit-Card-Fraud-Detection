{
 "cells": [
  {
   "cell_type": "markdown",
   "execution_count": null,
   "metadata": {
    "_cell_guid": "2f4d9cb3-3c32-4571-ac8d-62374cf137c0",
    "_uuid": "90a43d7476b9288d87fb1962152a2f5fb76222ce"
   },
   "outputs": [],
   "source": [
    "# Fraud Detection"
   ]
  },
  {
   "cell_type": "markdown",
   "execution_count": null,
   "metadata": {
    "_cell_guid": "1743de4b-5587-4636-b10e-42756a816148",
    "_uuid": "cb11d8ba5207885e2358770fd88fbbae4cad80e6"
   },
   "outputs": [],
   "source": [
    "## 1. Background<br>\n",
    "Fraud Detection has been subjected to great interest to the public. One way to generate a solution is to develop a machine learning model to detect a fraud."
   ]
  },
  {
   "cell_type": "markdown",
   "execution_count": null,
   "metadata": {
    "_cell_guid": "eeb11bd5-8641-4e56-a275-0f5456ea1685",
    "_uuid": "eb1d6e4818b69dbcc5ca85b30ffd9c03b7c707d8"
   },
   "outputs": [],
   "source": [
    "## 2. Objective <br>\n",
    "The objective of this work is <br> \n",
    "\n",
    "- to generate a classification model specific to the data-set, <i>Synthetic data from a financial payment system</i><br>\n",
    "- to evaluate the model's accuracy"
   ]
  },
  {
   "cell_type": "code",
   "execution_count": 1,
   "metadata": {
    "_cell_guid": "f1bded2f-3fe0-4f76-80cf-005435aa0148",
    "_execution_state": "idle",
    "_uuid": "dce4ba933baa45f7bf01fc8c60fddc6947685c43",
    "collapsed": true
   },
   "outputs": [],
   "source": [
    "import pandas as pd\n",
    "import numpy as np\n",
    "import matplotlib.pyplot as plt\n",
    "import matplotlib.mlab as mlab\n",
    "%matplotlib inline "
   ]
  },
  {
   "cell_type": "code",
   "execution_count": 2,
   "metadata": {
    "_cell_guid": "042c5118-e507-411b-83cf-a3d5915fe627",
    "_execution_state": "idle",
    "_uuid": "ecb2255300bc72d7cb126debba321916eee23091"
   },
   "outputs": [
    {
     "data": {
      "text/html": [
       "<div>\n",
       "<style>\n",
       "    .dataframe thead tr:only-child th {\n",
       "        text-align: right;\n",
       "    }\n",
       "\n",
       "    .dataframe thead th {\n",
       "        text-align: left;\n",
       "    }\n",
       "\n",
       "    .dataframe tbody tr th {\n",
       "        vertical-align: top;\n",
       "    }\n",
       "</style>\n",
       "<table border=\"1\" class=\"dataframe\">\n",
       "  <thead>\n",
       "    <tr style=\"text-align: right;\">\n",
       "      <th></th>\n",
       "      <th>step</th>\n",
       "      <th>customer</th>\n",
       "      <th>age</th>\n",
       "      <th>gender</th>\n",
       "      <th>zipcodeOri</th>\n",
       "      <th>merchant</th>\n",
       "      <th>zipMerchant</th>\n",
       "      <th>category</th>\n",
       "      <th>amount</th>\n",
       "      <th>fraud</th>\n",
       "    </tr>\n",
       "  </thead>\n",
       "  <tbody>\n",
       "    <tr>\n",
       "      <th>0</th>\n",
       "      <td>0</td>\n",
       "      <td>'C1093826151'</td>\n",
       "      <td>'4'</td>\n",
       "      <td>'M'</td>\n",
       "      <td>'28007'</td>\n",
       "      <td>'M348934600'</td>\n",
       "      <td>'28007'</td>\n",
       "      <td>'es_transportation'</td>\n",
       "      <td>4.55</td>\n",
       "      <td>0</td>\n",
       "    </tr>\n",
       "    <tr>\n",
       "      <th>1</th>\n",
       "      <td>0</td>\n",
       "      <td>'C352968107'</td>\n",
       "      <td>'2'</td>\n",
       "      <td>'M'</td>\n",
       "      <td>'28007'</td>\n",
       "      <td>'M348934600'</td>\n",
       "      <td>'28007'</td>\n",
       "      <td>'es_transportation'</td>\n",
       "      <td>39.68</td>\n",
       "      <td>0</td>\n",
       "    </tr>\n",
       "    <tr>\n",
       "      <th>2</th>\n",
       "      <td>0</td>\n",
       "      <td>'C2054744914'</td>\n",
       "      <td>'4'</td>\n",
       "      <td>'F'</td>\n",
       "      <td>'28007'</td>\n",
       "      <td>'M1823072687'</td>\n",
       "      <td>'28007'</td>\n",
       "      <td>'es_transportation'</td>\n",
       "      <td>26.89</td>\n",
       "      <td>0</td>\n",
       "    </tr>\n",
       "    <tr>\n",
       "      <th>3</th>\n",
       "      <td>0</td>\n",
       "      <td>'C1760612790'</td>\n",
       "      <td>'3'</td>\n",
       "      <td>'M'</td>\n",
       "      <td>'28007'</td>\n",
       "      <td>'M348934600'</td>\n",
       "      <td>'28007'</td>\n",
       "      <td>'es_transportation'</td>\n",
       "      <td>17.25</td>\n",
       "      <td>0</td>\n",
       "    </tr>\n",
       "    <tr>\n",
       "      <th>4</th>\n",
       "      <td>0</td>\n",
       "      <td>'C757503768'</td>\n",
       "      <td>'5'</td>\n",
       "      <td>'M'</td>\n",
       "      <td>'28007'</td>\n",
       "      <td>'M348934600'</td>\n",
       "      <td>'28007'</td>\n",
       "      <td>'es_transportation'</td>\n",
       "      <td>35.72</td>\n",
       "      <td>0</td>\n",
       "    </tr>\n",
       "  </tbody>\n",
       "</table>\n",
       "</div>"
      ],
      "text/plain": [
       "   step       customer  age gender zipcodeOri       merchant zipMerchant  \\\n",
       "0     0  'C1093826151'  '4'    'M'    '28007'   'M348934600'     '28007'   \n",
       "1     0   'C352968107'  '2'    'M'    '28007'   'M348934600'     '28007'   \n",
       "2     0  'C2054744914'  '4'    'F'    '28007'  'M1823072687'     '28007'   \n",
       "3     0  'C1760612790'  '3'    'M'    '28007'   'M348934600'     '28007'   \n",
       "4     0   'C757503768'  '5'    'M'    '28007'   'M348934600'     '28007'   \n",
       "\n",
       "              category  amount  fraud  \n",
       "0  'es_transportation'    4.55      0  \n",
       "1  'es_transportation'   39.68      0  \n",
       "2  'es_transportation'   26.89      0  \n",
       "3  'es_transportation'   17.25      0  \n",
       "4  'es_transportation'   35.72      0  "
      ]
     },
     "execution_count": 2,
     "metadata": {},
     "output_type": "execute_result"
    }
   ],
   "source": [
    "df = pd.read_csv('../input/bs140513_032310.csv')\n",
    "df.head()"
   ]
  },
  {
   "cell_type": "markdown",
   "execution_count": null,
   "metadata": {
    "_cell_guid": "b5a83d32-fefb-48b5-8617-859491dfb229",
    "_uuid": "5483062d994ad3549bb7a51e6579aceebb5ce3c1"
   },
   "outputs": [],
   "source": [
    "## 3. Data Observation"
   ]
  },
  {
   "cell_type": "markdown",
   "execution_count": null,
   "metadata": {
    "_cell_guid": "fab0f07c-d083-4470-9f9d-cc905afa9b3c",
    "_uuid": "12b424668ba5a7c2cc10a4b3a34681797f95d63b"
   },
   "outputs": [],
   "source": [
    "### 3.1 Data Sanity Check <br>\n",
    "The data is clean, and contains no missing data (NaN)."
   ]
  },
  {
   "cell_type": "code",
   "execution_count": 3,
   "metadata": {
    "_cell_guid": "f0b6aaa4-cf5b-4ec1-9e6c-bca0e1e8569c",
    "_execution_state": "idle",
    "_uuid": "da8e082a2484e87fbfdee7d2b9f0c957b747d81e"
   },
   "outputs": [
    {
     "data": {
      "text/plain": [
       "False"
      ]
     },
     "execution_count": 3,
     "metadata": {},
     "output_type": "execute_result"
    }
   ],
   "source": [
    "df.isnull().values.any()"
   ]
  },
  {
   "cell_type": "markdown",
   "execution_count": null,
   "metadata": {
    "_cell_guid": "605e079c-c1fb-46aa-896f-051c451c0794",
    "_uuid": "927660d0b9bb8679b10939f2f5049b9a89c9eb47"
   },
   "outputs": [],
   "source": [
    "### 3.2 Numbers and Percentage of Fraud<br>\n",
    "Number of Transactions observed<br>\n",
    "- Total: 601843<br>\n",
    "- Normal: 594643<br>\n",
    "- Fraud: 7200<br>\n",
    "\n",
    "Percentage, fraud vs normal transaction<br>\n",
    "- Normal: 98.79%<br>\n",
    "- Fraud: 1.21%<br>"
   ]
  },
  {
   "cell_type": "code",
   "execution_count": 4,
   "metadata": {
    "_cell_guid": "ce0078bb-4194-41c8-8536-b52d121ca813",
    "_execution_state": "idle",
    "_uuid": "38e254c05e639eb89f4b916b12b6ac65bf143007"
   },
   "outputs": [
    {
     "data": {
      "text/plain": [
       "(594643, 7200)"
      ]
     },
     "execution_count": 4,
     "metadata": {},
     "output_type": "execute_result"
    }
   ],
   "source": [
    "# Counting frequency and percentage of frad\n",
    "df_fraud= df[df['fraud']==1]\n",
    "num_transaction_total, num_transaction_fraud = len(df), len(df_fraud)\n",
    "num_transaction_total, num_transaction_fraud"
   ]
  },
  {
   "cell_type": "code",
   "execution_count": 5,
   "metadata": {
    "_cell_guid": "cc5c14ae-d29c-4707-b5ce-70d33ec17c2d",
    "_execution_state": "idle",
    "_uuid": "826a540ff79e0cf77f355f1f9ec8526a770e0c7e"
   },
   "outputs": [
    {
     "data": {
      "text/plain": [
       "(1.21, 98.79)"
      ]
     },
     "execution_count": 5,
     "metadata": {},
     "output_type": "execute_result"
    }
   ],
   "source": [
    "percent_fraud = round(num_transaction_fraud / num_transaction_total * 100, 2)\n",
    "percent_safe = 100 - percent_fraud\n",
    "percent_fraud, percent_safe"
   ]
  },
  {
   "cell_type": "code",
   "execution_count": 6,
   "metadata": {
    "_cell_guid": "a4f3b11a-2c3c-4417-bbcc-e8e141052753",
    "_execution_state": "idle",
    "_uuid": "9cb110ee14a99cfce093a22588a85665ead7f95b"
   },
   "outputs": [
    {
     "data": {
      "image/png": "[encoded data removed]",
      "text/plain": [
       "<matplotlib.figure.Figure at 0x7f11ec243588>"
      ]
     },
     "metadata": {},
     "output_type": "display_data"
    }
   ],
   "source": [
    "# plotting pie chart for percentage comparision: 'fraud' vs 'safe-transaction'\n",
    "fig1, ax1 = plt.subplots()\n",
    "\n",
    "plt.title(\"Figure 1. Fraud vs Safe Transaction in Percentage\", fontsize = 20)\n",
    "labels = ['Fraud', 'Safe Transaction']\n",
    "sizes = [percent_fraud, percent_safe]\n",
    "explode = (0, 0.2)  # only \"explode\" the 2nd slice (i.e. 'Hogs')\n",
    "\n",
    "patches, texts, autotexts = ax1.pie(sizes,  labels=labels, autopct='%1.1f%%', shadow = True, explode=explode, startangle=130, colors = ['#ff6666', '#2d64bc'])\n",
    "texts[0].set_fontsize(18)\n",
    "texts[1].set_fontsize(18)\n",
    "\n",
    "import matplotlib\n",
    "matplotlib.rcParams['text.color'] = 'black'\n",
    "matplotlib.rcParams[\"font.size\"] = 18\n",
    "plt.rcParams[\"figure.figsize\"] = [6, 6]"
   ]
  },
  {
   "cell_type": "markdown",
   "execution_count": null,
   "metadata": {
    "_cell_guid": "e330c01b-07c0-41d9-8354-79831b1e3499",
    "_uuid": "8dcd57ff247ceb1a83a43c06a6c1944516866a9a"
   },
   "outputs": [],
   "source": [
    "### 3.3 General Parameters Overview <br>\n",
    "This section will look at<br>\n",
    "- Which parameters are features, and which are target<br>\n",
    "- How many unique entries are found for each parameter(in each column)<br>\n",
    "\n",
    "Looking at these will provide general overview of the data-set's parameters.<br>\n",
    "If parameters that only has 1 unique entry could be disregarded in the classification, as they will have no influence.<br>\n",
    "Insightful judgement can be made in this stage to filter out a parameter that are affected 'data leakage.'\n"
   ]
  },
  {
   "cell_type": "code",
   "execution_count": 7,
   "metadata": {
    "_cell_guid": "27a25ff9-aba5-49bc-9a67-b48fe54cee9a",
    "_execution_state": "idle",
    "_uuid": "535d738446b026d6cc8fdd9c1bda0c117a0da5d2"
   },
   "outputs": [],
   "source": [
    "# Extracting # of unique entires per column and their sample values\n",
    "num_unique = []\n",
    "sample_col_values = []\n",
    "for col in df.columns:\n",
    "    num_unique.append(len(df[col].unique()))  # Counting number of unique values per each column\n",
    "    sample_col_values.append(df[col].unique()[:3])  # taking 3 sample values from each column              "
   ]
  },
  {
   "cell_type": "code",
   "execution_count": 8,
   "metadata": {
    "_cell_guid": "78cfdf3d-9c01-4020-b080-995cc4d71c14",
    "_execution_state": "idle",
    "_uuid": "30190bd703d9f1783f60c71e3f76bf9785c821da"
   },
   "outputs": [],
   "source": [
    "# combining the sample values into a a=single string (commas-seperated)\n",
    "# ex)  from ['hi', 'hello', 'bye']  to   'hi, hello, bye'\n",
    "col_combined_entries = []\n",
    "for col_entries in sample_col_values:\n",
    "    entry_string = \"\"\n",
    "    for entry in col_entries:\n",
    "        entry_string = entry_string + str(entry) + ', '\n",
    "    col_combined_entries.append(entry_string[:-2])"
   ]
  },
  {
   "cell_type": "code",
   "execution_count": 9,
   "metadata": {
    "_cell_guid": "4920bbdc-55bb-4c09-bdf6-324df6c2c941",
    "_execution_state": "idle",
    "_uuid": "c86adda7689588f91d77d1dd8dd4d74a45f8c060"
   },
   "outputs": [],
   "source": [
    "# Generating a list 'param_nature' that distinguishes features and targets\n",
    "param_nature = []\n",
    "for col in df.columns:\n",
    "    if col == 'fraud':\n",
    "        param_nature.append('Target')\n",
    "    else:\n",
    "        param_nature.append('Feature')"
   ]
  },
  {
   "cell_type": "code",
   "execution_count": 10,
   "metadata": {
    "_cell_guid": "23410659-49bf-4f87-b930-1f9bd0340a38",
    "_execution_state": "idle",
    "_uuid": "37e9bfed741338dfdc1f7dcdc9ca1f987d69a19b",
    "scrolled": true
   },
   "outputs": [
    {
     "data": {
      "text/html": [
       "<div>\n",
       "<style>\n",
       "    .dataframe thead tr:only-child th {\n",
       "        text-align: right;\n",
       "    }\n",
       "\n",
       "    .dataframe thead th {\n",
       "        text-align: left;\n",
       "    }\n",
       "\n",
       "    .dataframe tbody tr th {\n",
       "        vertical-align: top;\n",
       "    }\n",
       "</style>\n",
       "<table border=\"1\" class=\"dataframe\">\n",
       "  <thead>\n",
       "    <tr style=\"text-align: right;\">\n",
       "      <th></th>\n",
       "      <th>Parameter Nature</th>\n",
       "      <th># of Unique Entries</th>\n",
       "      <th>Sample Entries (First three values)</th>\n",
       "    </tr>\n",
       "  </thead>\n",
       "  <tbody>\n",
       "    <tr>\n",
       "      <th>step</th>\n",
       "      <td>Feature</td>\n",
       "      <td>180</td>\n",
       "      <td>0, 1, 2</td>\n",
       "    </tr>\n",
       "    <tr>\n",
       "      <th>customer</th>\n",
       "      <td>Feature</td>\n",
       "      <td>4112</td>\n",
       "      <td>'C1093826151', 'C352968107', 'C2054744914'</td>\n",
       "    </tr>\n",
       "    <tr>\n",
       "      <th>age</th>\n",
       "      <td>Feature</td>\n",
       "      <td>8</td>\n",
       "      <td>'4', '2', '3'</td>\n",
       "    </tr>\n",
       "    <tr>\n",
       "      <th>gender</th>\n",
       "      <td>Feature</td>\n",
       "      <td>4</td>\n",
       "      <td>'M', 'F', 'E'</td>\n",
       "    </tr>\n",
       "    <tr>\n",
       "      <th>zipcodeOri</th>\n",
       "      <td>Feature</td>\n",
       "      <td>1</td>\n",
       "      <td>'28007'</td>\n",
       "    </tr>\n",
       "    <tr>\n",
       "      <th>merchant</th>\n",
       "      <td>Feature</td>\n",
       "      <td>50</td>\n",
       "      <td>'M348934600', 'M1823072687', 'M50039827'</td>\n",
       "    </tr>\n",
       "    <tr>\n",
       "      <th>zipMerchant</th>\n",
       "      <td>Feature</td>\n",
       "      <td>1</td>\n",
       "      <td>'28007'</td>\n",
       "    </tr>\n",
       "    <tr>\n",
       "      <th>category</th>\n",
       "      <td>Feature</td>\n",
       "      <td>15</td>\n",
       "      <td>'es_transportation', 'es_health', 'es_otherser...</td>\n",
       "    </tr>\n",
       "    <tr>\n",
       "      <th>amount</th>\n",
       "      <td>Feature</td>\n",
       "      <td>23767</td>\n",
       "      <td>4.55, 39.68, 26.89</td>\n",
       "    </tr>\n",
       "    <tr>\n",
       "      <th>fraud</th>\n",
       "      <td>Target</td>\n",
       "      <td>2</td>\n",
       "      <td>0, 1</td>\n",
       "    </tr>\n",
       "  </tbody>\n",
       "</table>\n",
       "</div>"
      ],
      "text/plain": [
       "            Parameter Nature # of Unique Entries  \\\n",
       "step                 Feature                 180   \n",
       "customer             Feature                4112   \n",
       "age                  Feature                   8   \n",
       "gender               Feature                   4   \n",
       "zipcodeOri           Feature                   1   \n",
       "merchant             Feature                  50   \n",
       "zipMerchant          Feature                   1   \n",
       "category             Feature                  15   \n",
       "amount               Feature               23767   \n",
       "fraud                 Target                   2   \n",
       "\n",
       "                           Sample Entries (First three values)  \n",
       "step                                                   0, 1, 2  \n",
       "customer            'C1093826151', 'C352968107', 'C2054744914'  \n",
       "age                                              '4', '2', '3'  \n",
       "gender                                           'M', 'F', 'E'  \n",
       "zipcodeOri                                             '28007'  \n",
       "merchant              'M348934600', 'M1823072687', 'M50039827'  \n",
       "zipMerchant                                            '28007'  \n",
       "category     'es_transportation', 'es_health', 'es_otherser...  \n",
       "amount                                      4.55, 39.68, 26.89  \n",
       "fraud                                                     0, 1  "
      ]
     },
     "execution_count": 10,
     "metadata": {},
     "output_type": "execute_result"
    }
   ],
   "source": [
    "# Generating Table1. Parameters Overview\n",
    "df_feature_overview = pd.DataFrame(np.transpose([param_nature, num_unique, col_combined_entries]), index = df.columns, columns = ['Parameter Nature', '# of Unique Entries', 'Sample Entries (First three values)'])\n",
    "df_feature_overview"
   ]
  },
  {
   "cell_type": "markdown",
   "execution_count": null,
   "metadata": {
    "_cell_guid": "69af93ff-bbf9-46b1-8f55-56dbf5b5eb11",
    "_uuid": "5bd321758578f6f5fec18c5eb73f64f98070b46e"
   },
   "outputs": [],
   "source": [
    "&nbsp;&nbsp;&nbsp;&nbsp;&nbsp;&nbsp;&nbsp;&nbsp;&nbsp;&nbsp;\n",
    "&nbsp;&nbsp;&nbsp;&nbsp;&nbsp;&nbsp;&nbsp;&nbsp;&nbsp;&nbsp;\n",
    "&nbsp;&nbsp;&nbsp;&nbsp;&nbsp;&nbsp;&nbsp;&nbsp;&nbsp;&nbsp;\n",
    "&nbsp;&nbsp;&nbsp;&nbsp;&nbsp;&nbsp;&nbsp;&nbsp;&nbsp;&nbsp;\n",
    "&nbsp;&nbsp;&nbsp;&nbsp;&nbsp;&nbsp;&nbsp;&nbsp;&nbsp;&nbsp;\n",
    "<b>Table 1. Parameters Overview</b>\n",
    "<br><br>"
   ]
  },
  {
   "cell_type": "markdown",
   "execution_count": null,
   "metadata": {
    "_cell_guid": "5c3f2a00-e28d-43b5-b542-0443ea96e9fd",
    "_uuid": "1a0f357171b745d64dc09883aa0a6fcfcf73d102"
   },
   "outputs": [],
   "source": [
    "<b> 3.3.1 General Parameters Overview: Interpretation </b> <br>\n",
    "\n",
    "- 'zipcodeOri' and 'zipMerchant' can be disregarded as they only have 1 unique entry, thus does not affects the classification.<br>\n",
    "- The parameter 'customer,' is also to be taken out, because it is affected by 'data leakage.' The one-time fraud victims are unlikely to be the victim of fraud again.\n"
   ]
  },
  {
   "cell_type": "code",
   "execution_count": 11,
   "metadata": {
    "_cell_guid": "5c3eda8b-0876-4ba8-8348-ba69a2fd42e0",
    "_execution_state": "idle",
    "_uuid": "2b5c1028eba2b9f69e7586c326133ff92f48d4ee",
    "collapsed": true
   },
   "outputs": [],
   "source": [
    "# Data filtering following the 'General Parameters Overview'\n",
    "del df['zipcodeOri']\n",
    "del df['zipMerchant']\n",
    "del df['customer']"
   ]
  },
  {
   "cell_type": "markdown",
   "execution_count": null,
   "metadata": {
    "_cell_guid": "f83a42d3-449c-467d-8be2-34ab0013643e",
    "_uuid": "bd48321374104422b7dae80bb032d7f1fef2b083"
   },
   "outputs": [],
   "source": [
    "### 3.4 Parameter Sensitivity Analysis (Feature Importance)<br>\n",
    "The preliminary decision tree modeling is performed to how influential each parameter is. Future analysis can emphasizes on the more important feature detected by this sensitivity analysis. The results of the sensitivity analysis is visually illustrated by Figure 2."
   ]
  },
  {
   "cell_type": "code",
   "execution_count": 12,
   "metadata": {
    "_cell_guid": "c40b8831-b8dc-4855-a99e-7c54388913a4",
    "_execution_state": "idle",
    "_uuid": "8de32fca40936272f7e95b8c136531bd626dd26a",
    "collapsed": true
   },
   "outputs": [],
   "source": [
    "# copy dataframe for preliminary decision tree\n",
    "df_fi = df\n",
    "# Selecting Columns whose values are categorical (in practice, the strings)\n",
    "col_categorical = df_fi.select_dtypes(include= ['object']).columns\n",
    "# Converting data-type as 'category;\n",
    "for col_name in col_categorical:\n",
    "    df_fi[col_name] = df_fi[col_name].astype('category')\n",
    "# Converting categorical entries to integers\n",
    "df_fi[col_categorical] = df_fi[col_categorical].apply(lambda x: x.cat.codes)\n",
    "# seperatign data columns and target columns\n",
    "col_names = df_fi.columns.tolist()\n",
    "col_names_data = col_names[0:len(col_names)-1]\n",
    "col_name_target = col_names[-1]\n",
    "# Declaring 'data-dataframe'  and 'target-dataframe'\n",
    "X = df_fi[col_names_data]\n",
    "y = df_fi[col_name_target]"
   ]
  },
  {
   "cell_type": "code",
   "execution_count": 13,
   "metadata": {
    "_cell_guid": "ddb6b3d4-fd68-4685-b48f-3ab1b28b00f6",
    "_execution_state": "idle",
    "_uuid": "37f4d9b89a32126e825080a0ef6b5db074afe487"
   },
   "outputs": [
    {
     "data": {
      "text/plain": [
       "DecisionTreeClassifier(class_weight=None, criterion='gini', max_depth=None,\n",
       "            max_features=None, max_leaf_nodes=None,\n",
       "            min_impurity_decrease=0.0, min_impurity_split=None,\n",
       "            min_samples_leaf=1, min_samples_split=2,\n",
       "            min_weight_fraction_leaf=0.0, presort=False, random_state=None,\n",
       "            splitter='best')"
      ]
     },
     "execution_count": 13,
     "metadata": {},
     "output_type": "execute_result"
    }
   ],
   "source": [
    "from sklearn.tree import DecisionTreeClassifier\n",
    "dt = DecisionTreeClassifier()\n",
    "dt.fit(X, y)"
   ]
  },
  {
   "cell_type": "code",
   "execution_count": 14,
   "metadata": {
    "_cell_guid": "fcd9a154-972e-4934-b3e5-194c9076491f",
    "_execution_state": "idle",
    "_uuid": "6f5b814d220b6a8d1d1121c986856186220797d4",
    "collapsed": true
   },
   "outputs": [],
   "source": [
    "# sorted-feature importances from the preliminary decision tree\n",
    "ds_fi = pd.Series(dt.feature_importances_ , index = col_names_data).sort_values(ascending= False)"
   ]
  },
  {
   "cell_type": "code",
   "execution_count": 15,
   "metadata": {
    "_cell_guid": "bbdf6e8c-d569-4d1f-8be9-b02ec1657255",
    "_execution_state": "idle",
    "_uuid": "18eda49989e78b981fd4cdc87b7e1b1eef350947"
   },
   "outputs": [
    {
     "data": {
      "image/png": "[encoded data removed]",
      "text/plain": [
       "<matplotlib.figure.Figure at 0x7f11df4059e8>"
      ]
     },
     "metadata": {},
     "output_type": "display_data"
    }
   ],
   "source": [
    "# plotting feature imporance bar-graph\n",
    "fig2 = plt.figure(figsize=(13,5))\n",
    "\n",
    "# Generating stacked bar-chart\n",
    "bars_ft = plt.bar(range(len(ds_fi)), ds_fi, width = .8, color = '#2d64bc')\n",
    "\n",
    "# Labeling\n",
    "ttl = plt.title(\"Figure 2. Feature Importances\", fontsize = 20).set_position([0.45, 1.1])\n",
    "plt.xticks(range(len(ds_fi)), ds_fi.index, fontsize = 14)\n",
    "\n",
    "# plot-dejunking\n",
    "ax = plt.gca()\n",
    "ax.yaxis.set_visible(False) # hide entire y axis (both ticks and labels)\n",
    "ax.xaxis.set_ticks_position('none')  # hide only the ticks and keep the label\n",
    "# hide the frame\n",
    "for spine in plt.gca().spines.values():\n",
    "    spine.set_visible(False)\n",
    "\n",
    "# value displaying\n",
    "rects = ax.patches  \n",
    "labels = ds_fi.values.round(2)\n",
    "for rect, label in zip(rects, labels):\n",
    "    height = rect.get_height()\n",
    "    ax.text(rect.get_x() + rect.get_width()/2, height, label, ha='center', va='bottom', fontsize = 13)"
   ]
  },
  {
   "cell_type": "markdown",
   "execution_count": null,
   "metadata": {
    "_cell_guid": "658ab12f-9a3a-4ed8-aeb5-25f352b80cb1",
    "_uuid": "a668d01b9e9b70f51e3f316c5ff2d0d5345b6d61"
   },
   "outputs": [],
   "source": [
    "### 3.5 Visualization of the dominant variable, <i> Transaction Amount</i> <br>\n",
    "As Figure 2 shows, 'transaction amount' is the most infuential parameter in detecting (or classifying) a fraud. In this section, the 'transaction amount' is studied more closely. The following two will be looked at.<br>\n",
    "- For different rage of transaction amount, what is the frequency distribution. (Figure 3)<br>\n",
    "- For different rage of transaction amount, what is the percentage distribution. (Figure 4)<br>"
   ]
  },
  {
   "cell_type": "code",
   "execution_count": 16,
   "metadata": {
    "_cell_guid": "a6e8f17c-0a0f-4d51-8660-b1c7e931161c",
    "_execution_state": "idle",
    "_uuid": "4f623fe600493e2cd31866a4d3f8e990d47d64cf",
    "collapsed": true
   },
   "outputs": [],
   "source": [
    "num_bins = 15\n",
    "tran_amount = df['amount']\n",
    "n, bins, patches = plt.hist(tran_amount, num_bins, normed = False, stacked = True, facecolor= '#f26a6a', alpha=0.5)\n",
    "plt.close()"
   ]
  },
  {
   "cell_type": "code",
   "execution_count": 17,
   "metadata": {
    "_cell_guid": "a97747c0-d860-4c9b-a9b1-945fd294b630",
    "_execution_state": "idle",
    "_uuid": "f415de33908d31488b0d2479087ce31c5d93b04d"
   },
   "outputs": [],
   "source": [
    "n_fraud = np.zeros(num_bins)\n",
    "for i in range(num_bins):\n",
    "    for j in range(num_transaction_fraud):\n",
    "        if bins[i] < df_fraud['amount'].iloc[j] <= bins[i+1]:\n",
    "            n_fraud[i] += 1"
   ]
  },
  {
   "cell_type": "code",
   "execution_count": 18,
   "metadata": {
    "_cell_guid": "97b89fac-0311-455c-9b0f-4ab57efa3e96",
    "_execution_state": "idle",
    "_uuid": "2b361a9b414552f72bb6375a5b62e0a4b09f4941",
    "collapsed": true
   },
   "outputs": [],
   "source": [
    "range_amount = []\n",
    "for i in range(num_bins):\n",
    "    lower_lim, higher_lim = str(int(bins[i])), str(int(bins[i+1]))\n",
    "    range_amount.append(\"$ \" + lower_lim + \" ~ \" + higher_lim )"
   ]
  },
  {
   "cell_type": "code",
   "execution_count": 19,
   "metadata": {
    "_cell_guid": "96d563f8-0f5f-44a2-8466-3862ff966079",
    "_execution_state": "idle",
    "_uuid": "5c7973e45df46ae3060373ba44f3e38e64a8c969"
   },
   "outputs": [
    {
     "data": {
      "text/html": [
       "<div>\n",
       "<style>\n",
       "    .dataframe thead tr:only-child th {\n",
       "        text-align: right;\n",
       "    }\n",
       "\n",
       "    .dataframe thead th {\n",
       "        text-align: left;\n",
       "    }\n",
       "\n",
       "    .dataframe tbody tr th {\n",
       "        vertical-align: top;\n",
       "    }\n",
       "</style>\n",
       "<table border=\"1\" class=\"dataframe\">\n",
       "  <thead>\n",
       "    <tr style=\"text-align: right;\">\n",
       "      <th></th>\n",
       "      <th># Total</th>\n",
       "      <th># Fraud</th>\n",
       "      <th># Safe</th>\n",
       "      <th>% Fraud</th>\n",
       "      <th>% Safe</th>\n",
       "    </tr>\n",
       "    <tr>\n",
       "      <th>Transaction Amount[$]</th>\n",
       "      <th></th>\n",
       "      <th></th>\n",
       "      <th></th>\n",
       "      <th></th>\n",
       "      <th></th>\n",
       "    </tr>\n",
       "  </thead>\n",
       "  <tbody>\n",
       "    <tr>\n",
       "      <th>$ 0 ~ 555</th>\n",
       "      <td>592793.0</td>\n",
       "      <td>5430.0</td>\n",
       "      <td>587363.0</td>\n",
       "      <td>0.92</td>\n",
       "      <td>99.08</td>\n",
       "    </tr>\n",
       "    <tr>\n",
       "      <th>$ 555 ~ 1110</th>\n",
       "      <td>1309.0</td>\n",
       "      <td>1257.0</td>\n",
       "      <td>52.0</td>\n",
       "      <td>96.03</td>\n",
       "      <td>3.97</td>\n",
       "    </tr>\n",
       "    <tr>\n",
       "      <th>$ 1110 ~ 1665</th>\n",
       "      <td>143.0</td>\n",
       "      <td>121.0</td>\n",
       "      <td>22.0</td>\n",
       "      <td>84.62</td>\n",
       "      <td>15.38</td>\n",
       "    </tr>\n",
       "    <tr>\n",
       "      <th>$ 1665 ~ 2221</th>\n",
       "      <td>81.0</td>\n",
       "      <td>75.0</td>\n",
       "      <td>6.0</td>\n",
       "      <td>92.59</td>\n",
       "      <td>7.41</td>\n",
       "    </tr>\n",
       "    <tr>\n",
       "      <th>$ 2221 ~ 2776</th>\n",
       "      <td>65.0</td>\n",
       "      <td>65.0</td>\n",
       "      <td>0.0</td>\n",
       "      <td>100.00</td>\n",
       "      <td>0.00</td>\n",
       "    </tr>\n",
       "    <tr>\n",
       "      <th>$ 2776 ~ 3331</th>\n",
       "      <td>59.0</td>\n",
       "      <td>59.0</td>\n",
       "      <td>0.0</td>\n",
       "      <td>100.00</td>\n",
       "      <td>0.00</td>\n",
       "    </tr>\n",
       "    <tr>\n",
       "      <th>$ 3331 ~ 3887</th>\n",
       "      <td>48.0</td>\n",
       "      <td>48.0</td>\n",
       "      <td>0.0</td>\n",
       "      <td>100.00</td>\n",
       "      <td>0.00</td>\n",
       "    </tr>\n",
       "    <tr>\n",
       "      <th>$ 3887 ~ 4442</th>\n",
       "      <td>48.0</td>\n",
       "      <td>48.0</td>\n",
       "      <td>0.0</td>\n",
       "      <td>100.00</td>\n",
       "      <td>0.00</td>\n",
       "    </tr>\n",
       "    <tr>\n",
       "      <th>$ 4442 ~ 4997</th>\n",
       "      <td>38.0</td>\n",
       "      <td>38.0</td>\n",
       "      <td>0.0</td>\n",
       "      <td>100.00</td>\n",
       "      <td>0.00</td>\n",
       "    </tr>\n",
       "    <tr>\n",
       "      <th>$ 4997 ~ 5553</th>\n",
       "      <td>21.0</td>\n",
       "      <td>21.0</td>\n",
       "      <td>0.0</td>\n",
       "      <td>100.00</td>\n",
       "      <td>0.00</td>\n",
       "    </tr>\n",
       "    <tr>\n",
       "      <th>$ 5553 ~ 6108</th>\n",
       "      <td>14.0</td>\n",
       "      <td>14.0</td>\n",
       "      <td>0.0</td>\n",
       "      <td>100.00</td>\n",
       "      <td>0.00</td>\n",
       "    </tr>\n",
       "    <tr>\n",
       "      <th>$ 6108 ~ 6663</th>\n",
       "      <td>15.0</td>\n",
       "      <td>15.0</td>\n",
       "      <td>0.0</td>\n",
       "      <td>100.00</td>\n",
       "      <td>0.00</td>\n",
       "    </tr>\n",
       "    <tr>\n",
       "      <th>$ 6663 ~ 7219</th>\n",
       "      <td>3.0</td>\n",
       "      <td>3.0</td>\n",
       "      <td>0.0</td>\n",
       "      <td>100.00</td>\n",
       "      <td>0.00</td>\n",
       "    </tr>\n",
       "    <tr>\n",
       "      <th>$ 7219 ~ 7774</th>\n",
       "      <td>5.0</td>\n",
       "      <td>5.0</td>\n",
       "      <td>0.0</td>\n",
       "      <td>100.00</td>\n",
       "      <td>0.00</td>\n",
       "    </tr>\n",
       "    <tr>\n",
       "      <th>$ 7774 ~ 8329</th>\n",
       "      <td>1.0</td>\n",
       "      <td>1.0</td>\n",
       "      <td>0.0</td>\n",
       "      <td>100.00</td>\n",
       "      <td>0.00</td>\n",
       "    </tr>\n",
       "  </tbody>\n",
       "</table>\n",
       "</div>"
      ],
      "text/plain": [
       "                        # Total  # Fraud    # Safe  % Fraud  % Safe\n",
       "Transaction Amount[$]                                              \n",
       "$ 0 ~ 555              592793.0   5430.0  587363.0     0.92   99.08\n",
       "$ 555 ~ 1110             1309.0   1257.0      52.0    96.03    3.97\n",
       "$ 1110 ~ 1665             143.0    121.0      22.0    84.62   15.38\n",
       "$ 1665 ~ 2221              81.0     75.0       6.0    92.59    7.41\n",
       "$ 2221 ~ 2776              65.0     65.0       0.0   100.00    0.00\n",
       "$ 2776 ~ 3331              59.0     59.0       0.0   100.00    0.00\n",
       "$ 3331 ~ 3887              48.0     48.0       0.0   100.00    0.00\n",
       "$ 3887 ~ 4442              48.0     48.0       0.0   100.00    0.00\n",
       "$ 4442 ~ 4997              38.0     38.0       0.0   100.00    0.00\n",
       "$ 4997 ~ 5553              21.0     21.0       0.0   100.00    0.00\n",
       "$ 5553 ~ 6108              14.0     14.0       0.0   100.00    0.00\n",
       "$ 6108 ~ 6663              15.0     15.0       0.0   100.00    0.00\n",
       "$ 6663 ~ 7219               3.0      3.0       0.0   100.00    0.00\n",
       "$ 7219 ~ 7774               5.0      5.0       0.0   100.00    0.00\n",
       "$ 7774 ~ 8329               1.0      1.0       0.0   100.00    0.00"
      ]
     },
     "execution_count": 19,
     "metadata": {},
     "output_type": "execute_result"
    }
   ],
   "source": [
    "df_hist = pd.DataFrame(index = range_amount)\n",
    "df_hist.index.name = 'Transaction Amount[$]'\n",
    "df_hist['# Total'] = n\n",
    "df_hist['# Fraud'] = n_fraud\n",
    "df_hist['# Safe'] = df_hist['# Total'] - df_hist['# Fraud']\n",
    "df_hist['% Fraud'] = (df_hist['# Fraud'] / df_hist['# Total'] * 100).round(2)\n",
    "df_hist['% Safe'] = (df_hist['# Safe'] / df_hist['# Total'] * 100).round(2)\n",
    "df_hist"
   ]
  },
  {
   "cell_type": "code",
   "execution_count": 20,
   "metadata": {
    "_cell_guid": "9ae782b5-e34d-49ec-86a3-170a59b70385",
    "_execution_state": "idle",
    "_uuid": "d45d88f26b505442806c15dce3230bd5940d7396"
   },
   "outputs": [
    {
     "data": {
      "image/png": "[encoded data removed]",
      "text/plain": [
       "<matplotlib.figure.Figure at 0x7f11df27c4e0>"
      ]
     },
     "metadata": {},
     "output_type": "display_data"
    }
   ],
   "source": [
    "fig3 = plt.figure(figsize=(16,6))\n",
    "\n",
    "# Generating stacked bar-chart\n",
    "bars_fraud = plt.bar(range(num_bins), df_hist['# Safe'], width = 0.5, color = '#00e64d')\n",
    "bars_safe = plt.bar(range(num_bins), df_hist['# Fraud'], width = 0.5, bottom = df_hist['# Safe'], color='#ff6666')\n",
    "\n",
    "# Labeling\n",
    "plt.title(\"Figure 3. Frequency Distribution of Transaction Amount\", fontsize = 20)\n",
    "plt.xticks(range(num_bins), range_amount, fontsize = 14)\n",
    "plt.yticks(fontsize = 14)\n",
    "plt.legend((bars_fraud[0], bars_safe[0]), ('Safe Transaction', 'Fraud'), loc=4, fontsize = 16)\n",
    "plt.xlabel('Ranges of Transaction Amount', fontsize=16)\n",
    "plt.ylabel('Number of Occurence', fontsize=16)\n",
    "\n",
    "# hiding top/right border\n",
    "ax = plt.gca()\n",
    "ax.spines['right'].set_visible(False)\n",
    "ax.spines['top'].set_visible(False)\n",
    "\n",
    "x = plt.gca().xaxis\n",
    "# rotate the tick labels for the x axis\n",
    "for item in x.get_ticklabels():\n",
    "    item.set_rotation(50)"
   ]
  },
  {
   "cell_type": "code",
   "execution_count": 21,
   "metadata": {
    "_cell_guid": "7c607aa7-d5a7-41e1-a020-da5500740fc7",
    "_execution_state": "idle",
    "_uuid": "ed80740a834c1c16841a67966e1303b41c87be7d"
   },
   "outputs": [
    {
     "data": {
      "text/plain": [
       "<matplotlib.text.Text at 0x7f11defc2a90>"
      ]
     },
     "execution_count": 21,
     "metadata": {},
     "output_type": "execute_result"
    },
    {
     "data": {
      "image/png": "[encoded data removed]",
      "text/plain": [
       "<matplotlib.figure.Figure at 0x7f11df292978>"
      ]
     },
     "metadata": {},
     "output_type": "display_data"
    }
   ],
   "source": [
    "fig4 = plt.figure(figsize=(16,6))\n",
    "\n",
    "# Generating stacked bar-chart\n",
    "bars_fraud = plt.bar(range(num_bins), df_hist['% Safe'], width = 0.5, color = '#00e64d')\n",
    "bars_safe = plt.bar(range(num_bins), df_hist['% Fraud'], width = 0.5, bottom = df_hist['% Safe'], color='#ff6666')\n",
    "\n",
    "# Labeling\n",
    "plt.title(\"Figure 4. Fraud Percentage at Different Ranges of Transaction Amount\", fontsize = 20)\n",
    "plt.xticks(range(num_bins), range_amount, fontsize = 14)\n",
    "plt.yticks(fontsize = 14)\n",
    "plt.legend((bars_fraud[0], bars_safe[0]), ('Safe Transaction', 'Fraud'), loc=4, fontsize = 16)\n",
    "plt.xlabel('Ranges of Transaction Amount', fontsize=16)\n",
    "plt.ylabel('Percentage', fontsize=16)\n",
    "plt.ylim(0, 100)\n",
    "x = plt.gca().xaxis\n",
    "# rotate the tick labels for the x axis\n",
    "for item in x.get_ticklabels():\n",
    "    item.set_rotation(50)\n",
    "\n",
    "# hiding top/right border\n",
    "ax = plt.gca()\n",
    "ax.spines['right'].set_visible(False)\n",
    "ax.spines['top'].set_visible(False)    \n",
    "\n",
    "# bar-value display\n",
    "for bar in bars_safe:\n",
    "    plt.gca().text(bar.get_x() + bar.get_width()/2, bar.get_height() - 5, str(int(bar.get_height())) + '%', \n",
    "                 ha='center', color='w', fontsize=13, rotation = 'vertical', weight = 'bold')\n",
    "plt.gca().text(bars_fraud[0].get_x() + bars_fraud[0].get_width()/2, bars_fraud[0].get_height() - 5, str(int(bars_fraud[0].get_height())) + '%', \n",
    "                 ha='center', color='black', fontsize=13, rotation = 'vertical', weight = 'bold')"
   ]
  },
  {
   "cell_type": "markdown",
   "execution_count": null,
   "metadata": {
    "_cell_guid": "fe2da10d-faae-4d48-9c79-e055ccbb52d7",
    "_execution_state": "idle",
    "_uuid": "399c59cb2a5e0b730190b77bdc70061bf8eef849",
    "collapsed": true
   },
   "outputs": [],
   "source": [
    "## Te be continued at my next availability......."
   ]
  },
  {
   "cell_type": "code",
   "execution_count": 22,
   "metadata": {
    "_cell_guid": "d4413138-2274-4c3f-9fb5-fbe8d4bb2924",
    "_execution_state": "idle",
    "_uuid": "32446e40106dcd6bfd5594968e1047bf43184a65",
    "collapsed": false
   },
   "outputs": [],
   "source": []
  }
 ],
 "metadata": {
  "kernelspec": {
   "display_name": "Python 3",
   "language": "python",
   "name": "python3"
  },
  "language_info": {
   "codemirror_mode": {
    "name": "ipython",
    "version": 3
   },
   "file_extension": ".py",
   "mimetype": "text/x-python",
   "name": "python",
   "nbconvert_exporter": "python",
   "pygments_lexer": "ipython3",
   "version": "3.6.1"
  }
 },
 "nbformat": 4,
 "nbformat_minor": 2
}

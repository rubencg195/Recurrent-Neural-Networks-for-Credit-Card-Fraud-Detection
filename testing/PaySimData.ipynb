{
 "cells": [
  {
   "cell_type": "code",
   "execution_count": 1,
   "metadata": {},
   "outputs": [],
   "source": [
    "import pandas as pd\n",
    "import numpy as np\n",
    "\n",
    "data = pd.read_csv(\"data/generated/rawLog.csv\")"
   ]
  },
  {
   "cell_type": "code",
   "execution_count": 2,
   "metadata": {},
   "outputs": [
    {
     "data": {
      "text/html": [
       "<div>\n",
       "<style scoped>\n",
       "    .dataframe tbody tr th:only-of-type {\n",
       "        vertical-align: middle;\n",
       "    }\n",
       "\n",
       "    .dataframe tbody tr th {\n",
       "        vertical-align: top;\n",
       "    }\n",
       "\n",
       "    .dataframe thead th {\n",
       "        text-align: right;\n",
       "    }\n",
       "</style>\n",
       "<table border=\"1\" class=\"dataframe\">\n",
       "  <thead>\n",
       "    <tr style=\"text-align: right;\">\n",
       "      <th></th>\n",
       "      <th>step</th>\n",
       "      <th>action</th>\n",
       "      <th>amount</th>\n",
       "      <th>nameOrig</th>\n",
       "      <th>oldBalanceOrig</th>\n",
       "      <th>newBalanceOrig</th>\n",
       "      <th>nameDest</th>\n",
       "      <th>oldBalanceDest</th>\n",
       "      <th>newBalanceDest</th>\n",
       "      <th>isFraud</th>\n",
       "      <th>isFlaggedFraud</th>\n",
       "      <th>isUnauthorizedOverdraft</th>\n",
       "    </tr>\n",
       "  </thead>\n",
       "  <tbody>\n",
       "    <tr>\n",
       "      <th>0</th>\n",
       "      <td>0</td>\n",
       "      <td>TRANSFER</td>\n",
       "      <td>134342.89</td>\n",
       "      <td>C3901370102</td>\n",
       "      <td>134342.89</td>\n",
       "      <td>0.0</td>\n",
       "      <td>CC6812272942</td>\n",
       "      <td>0.0</td>\n",
       "      <td>134342.89</td>\n",
       "      <td>1</td>\n",
       "      <td>0</td>\n",
       "      <td>0</td>\n",
       "    </tr>\n",
       "    <tr>\n",
       "      <th>1</th>\n",
       "      <td>0</td>\n",
       "      <td>CASH_OUT</td>\n",
       "      <td>134342.89</td>\n",
       "      <td>CC6812272942</td>\n",
       "      <td>134342.89</td>\n",
       "      <td>0.0</td>\n",
       "      <td>M8605631338</td>\n",
       "      <td>0.0</td>\n",
       "      <td>0.00</td>\n",
       "      <td>1</td>\n",
       "      <td>0</td>\n",
       "      <td>0</td>\n",
       "    </tr>\n",
       "    <tr>\n",
       "      <th>2</th>\n",
       "      <td>0</td>\n",
       "      <td>TRANSFER</td>\n",
       "      <td>28.15</td>\n",
       "      <td>C2703655824</td>\n",
       "      <td>28.15</td>\n",
       "      <td>0.0</td>\n",
       "      <td>CC5153169434</td>\n",
       "      <td>0.0</td>\n",
       "      <td>28.15</td>\n",
       "      <td>1</td>\n",
       "      <td>0</td>\n",
       "      <td>0</td>\n",
       "    </tr>\n",
       "    <tr>\n",
       "      <th>3</th>\n",
       "      <td>0</td>\n",
       "      <td>CASH_OUT</td>\n",
       "      <td>28.15</td>\n",
       "      <td>CC5153169434</td>\n",
       "      <td>28.15</td>\n",
       "      <td>0.0</td>\n",
       "      <td>M5417538618</td>\n",
       "      <td>0.0</td>\n",
       "      <td>0.00</td>\n",
       "      <td>1</td>\n",
       "      <td>0</td>\n",
       "      <td>0</td>\n",
       "    </tr>\n",
       "    <tr>\n",
       "      <th>4</th>\n",
       "      <td>0</td>\n",
       "      <td>TRANSFER</td>\n",
       "      <td>13.87</td>\n",
       "      <td>C6896625551</td>\n",
       "      <td>13.87</td>\n",
       "      <td>0.0</td>\n",
       "      <td>CC2282429675</td>\n",
       "      <td>0.0</td>\n",
       "      <td>13.87</td>\n",
       "      <td>1</td>\n",
       "      <td>0</td>\n",
       "      <td>0</td>\n",
       "    </tr>\n",
       "  </tbody>\n",
       "</table>\n",
       "</div>"
      ],
      "text/plain": [
       "   step    action     amount      nameOrig  oldBalanceOrig  newBalanceOrig  \\\n",
       "0     0  TRANSFER  134342.89   C3901370102       134342.89             0.0   \n",
       "1     0  CASH_OUT  134342.89  CC6812272942       134342.89             0.0   \n",
       "2     0  TRANSFER      28.15   C2703655824           28.15             0.0   \n",
       "3     0  CASH_OUT      28.15  CC5153169434           28.15             0.0   \n",
       "4     0  TRANSFER      13.87   C6896625551           13.87             0.0   \n",
       "\n",
       "       nameDest  oldBalanceDest  newBalanceDest  isFraud  isFlaggedFraud  \\\n",
       "0  CC6812272942             0.0       134342.89        1               0   \n",
       "1   M8605631338             0.0            0.00        1               0   \n",
       "2  CC5153169434             0.0           28.15        1               0   \n",
       "3   M5417538618             0.0            0.00        1               0   \n",
       "4  CC2282429675             0.0           13.87        1               0   \n",
       "\n",
       "   isUnauthorizedOverdraft  \n",
       "0                        0  \n",
       "1                        0  \n",
       "2                        0  \n",
       "3                        0  \n",
       "4                        0  "
      ]
     },
     "execution_count": 2,
     "metadata": {},
     "output_type": "execute_result"
    }
   ],
   "source": [
    "data.head()"
   ]
  },
  {
   "cell_type": "code",
   "execution_count": 3,
   "metadata": {},
   "outputs": [
    {
     "data": {
      "text/plain": [
       "(10510454, 12)"
      ]
     },
     "execution_count": 3,
     "metadata": {},
     "output_type": "execute_result"
    }
   ],
   "source": [
    "data.shape"
   ]
  },
  {
   "cell_type": "code",
   "execution_count": 4,
   "metadata": {},
   "outputs": [
    {
     "name": "stdout",
     "output_type": "stream",
     "text": [
      "Frauds 26070 0.248% Non-Frauds: 10484384 99.752%\n"
     ]
    }
   ],
   "source": [
    "print(\n",
    "    \"Frauds {} {:.3f}% Non-Frauds: {} {:.3f}%\".format( \n",
    "        len(data[data[\"isFraud\"]==1]), len(data[data[\"isFraud\"]==1])*100 / len(data) ,\n",
    "        len(data[data[\"isFraud\"]==0]), len(data[data[\"isFraud\"]==0])*100 / len(data) \n",
    "))"
   ]
  },
  {
   "cell_type": "code",
   "execution_count": 5,
   "metadata": {},
   "outputs": [
    {
     "data": {
      "text/html": [
       "<div>\n",
       "<style scoped>\n",
       "    .dataframe tbody tr th:only-of-type {\n",
       "        vertical-align: middle;\n",
       "    }\n",
       "\n",
       "    .dataframe tbody tr th {\n",
       "        vertical-align: top;\n",
       "    }\n",
       "\n",
       "    .dataframe thead th {\n",
       "        text-align: right;\n",
       "    }\n",
       "</style>\n",
       "<table border=\"1\" class=\"dataframe\">\n",
       "  <thead>\n",
       "    <tr style=\"text-align: right;\">\n",
       "      <th></th>\n",
       "      <th>step</th>\n",
       "      <th>customer</th>\n",
       "      <th>age</th>\n",
       "      <th>gender</th>\n",
       "      <th>merchant</th>\n",
       "      <th>category</th>\n",
       "      <th>amount</th>\n",
       "      <th>fraud</th>\n",
       "    </tr>\n",
       "  </thead>\n",
       "  <tbody>\n",
       "    <tr>\n",
       "      <th>0</th>\n",
       "      <td>0</td>\n",
       "      <td>'C1093826151'</td>\n",
       "      <td>'4'</td>\n",
       "      <td>'M'</td>\n",
       "      <td>'M348934600'</td>\n",
       "      <td>'es_transportation'</td>\n",
       "      <td>4.55</td>\n",
       "      <td>0</td>\n",
       "    </tr>\n",
       "    <tr>\n",
       "      <th>1</th>\n",
       "      <td>0</td>\n",
       "      <td>'C352968107'</td>\n",
       "      <td>'2'</td>\n",
       "      <td>'M'</td>\n",
       "      <td>'M348934600'</td>\n",
       "      <td>'es_transportation'</td>\n",
       "      <td>39.68</td>\n",
       "      <td>0</td>\n",
       "    </tr>\n",
       "    <tr>\n",
       "      <th>2</th>\n",
       "      <td>0</td>\n",
       "      <td>'C2054744914'</td>\n",
       "      <td>'4'</td>\n",
       "      <td>'F'</td>\n",
       "      <td>'M1823072687'</td>\n",
       "      <td>'es_transportation'</td>\n",
       "      <td>26.89</td>\n",
       "      <td>0</td>\n",
       "    </tr>\n",
       "    <tr>\n",
       "      <th>3</th>\n",
       "      <td>0</td>\n",
       "      <td>'C1760612790'</td>\n",
       "      <td>'3'</td>\n",
       "      <td>'M'</td>\n",
       "      <td>'M348934600'</td>\n",
       "      <td>'es_transportation'</td>\n",
       "      <td>17.25</td>\n",
       "      <td>0</td>\n",
       "    </tr>\n",
       "    <tr>\n",
       "      <th>4</th>\n",
       "      <td>0</td>\n",
       "      <td>'C757503768'</td>\n",
       "      <td>'5'</td>\n",
       "      <td>'M'</td>\n",
       "      <td>'M348934600'</td>\n",
       "      <td>'es_transportation'</td>\n",
       "      <td>35.72</td>\n",
       "      <td>0</td>\n",
       "    </tr>\n",
       "  </tbody>\n",
       "</table>\n",
       "</div>"
      ],
      "text/plain": [
       "   step       customer  age gender       merchant             category  \\\n",
       "0     0  'C1093826151'  '4'    'M'   'M348934600'  'es_transportation'   \n",
       "1     0   'C352968107'  '2'    'M'   'M348934600'  'es_transportation'   \n",
       "2     0  'C2054744914'  '4'    'F'  'M1823072687'  'es_transportation'   \n",
       "3     0  'C1760612790'  '3'    'M'   'M348934600'  'es_transportation'   \n",
       "4     0   'C757503768'  '5'    'M'   'M348934600'  'es_transportation'   \n",
       "\n",
       "   amount  fraud  \n",
       "0    4.55      0  \n",
       "1   39.68      0  \n",
       "2   26.89      0  \n",
       "3   17.25      0  \n",
       "4   35.72      0  "
      ]
     },
     "execution_count": 5,
     "metadata": {},
     "output_type": "execute_result"
    }
   ],
   "source": [
    "example_data = pd.read_csv(\"data/bs140513_032310.csv\")\n",
    "example_data = example_data.drop(columns=[\"zipcodeOri\", \"zipMerchant\"])\n",
    "example_data.head()"
   ]
  },
  {
   "cell_type": "code",
   "execution_count": 6,
   "metadata": {},
   "outputs": [],
   "source": [
    "filtered_data = data.drop(columns=['action', 'oldBalanceOrig', \"oldBalanceDest\", \"isFlaggedFraud\", \"isUnauthorizedOverdraft\" , \"newBalanceOrig\", \"newBalanceDest\" ])\n",
    "filtered_data = filtered_data.rename(columns={\"nameOrig\": \"customer\", \"nameDest\": \"merchant\", \"isFraud\" : \"fraud\"})\n",
    "filtered_data[\"age\"] = \"U\"\n",
    "filtered_data[\"gender\"] = \"U\"\n",
    "filtered_data[\"category\"] = np.nan\n",
    "filtered_data = filtered_data[['step', 'customer', 'age', 'gender', 'merchant', 'category' , 'amount', \"fraud\"]]"
   ]
  },
  {
   "cell_type": "code",
   "execution_count": 7,
   "metadata": {},
   "outputs": [
    {
     "data": {
      "text/html": [
       "<div>\n",
       "<style scoped>\n",
       "    .dataframe tbody tr th:only-of-type {\n",
       "        vertical-align: middle;\n",
       "    }\n",
       "\n",
       "    .dataframe tbody tr th {\n",
       "        vertical-align: top;\n",
       "    }\n",
       "\n",
       "    .dataframe thead th {\n",
       "        text-align: right;\n",
       "    }\n",
       "</style>\n",
       "<table border=\"1\" class=\"dataframe\">\n",
       "  <thead>\n",
       "    <tr style=\"text-align: right;\">\n",
       "      <th></th>\n",
       "      <th>step</th>\n",
       "      <th>customer</th>\n",
       "      <th>age</th>\n",
       "      <th>gender</th>\n",
       "      <th>merchant</th>\n",
       "      <th>category</th>\n",
       "      <th>amount</th>\n",
       "      <th>fraud</th>\n",
       "    </tr>\n",
       "  </thead>\n",
       "  <tbody>\n",
       "    <tr>\n",
       "      <th>0</th>\n",
       "      <td>0</td>\n",
       "      <td>C3901370102</td>\n",
       "      <td>U</td>\n",
       "      <td>U</td>\n",
       "      <td>CC6812272942</td>\n",
       "      <td>NaN</td>\n",
       "      <td>134342.89</td>\n",
       "      <td>1</td>\n",
       "    </tr>\n",
       "    <tr>\n",
       "      <th>1</th>\n",
       "      <td>0</td>\n",
       "      <td>CC6812272942</td>\n",
       "      <td>U</td>\n",
       "      <td>U</td>\n",
       "      <td>M8605631338</td>\n",
       "      <td>NaN</td>\n",
       "      <td>134342.89</td>\n",
       "      <td>1</td>\n",
       "    </tr>\n",
       "    <tr>\n",
       "      <th>2</th>\n",
       "      <td>0</td>\n",
       "      <td>C2703655824</td>\n",
       "      <td>U</td>\n",
       "      <td>U</td>\n",
       "      <td>CC5153169434</td>\n",
       "      <td>NaN</td>\n",
       "      <td>28.15</td>\n",
       "      <td>1</td>\n",
       "    </tr>\n",
       "    <tr>\n",
       "      <th>3</th>\n",
       "      <td>0</td>\n",
       "      <td>CC5153169434</td>\n",
       "      <td>U</td>\n",
       "      <td>U</td>\n",
       "      <td>M5417538618</td>\n",
       "      <td>NaN</td>\n",
       "      <td>28.15</td>\n",
       "      <td>1</td>\n",
       "    </tr>\n",
       "    <tr>\n",
       "      <th>4</th>\n",
       "      <td>0</td>\n",
       "      <td>C6896625551</td>\n",
       "      <td>U</td>\n",
       "      <td>U</td>\n",
       "      <td>CC2282429675</td>\n",
       "      <td>NaN</td>\n",
       "      <td>13.87</td>\n",
       "      <td>1</td>\n",
       "    </tr>\n",
       "  </tbody>\n",
       "</table>\n",
       "</div>"
      ],
      "text/plain": [
       "   step      customer age gender      merchant  category     amount  fraud\n",
       "0     0   C3901370102   U      U  CC6812272942       NaN  134342.89      1\n",
       "1     0  CC6812272942   U      U   M8605631338       NaN  134342.89      1\n",
       "2     0   C2703655824   U      U  CC5153169434       NaN      28.15      1\n",
       "3     0  CC5153169434   U      U   M5417538618       NaN      28.15      1\n",
       "4     0   C6896625551   U      U  CC2282429675       NaN      13.87      1"
      ]
     },
     "execution_count": 7,
     "metadata": {},
     "output_type": "execute_result"
    }
   ],
   "source": [
    "filtered_data.head()"
   ]
  },
  {
   "cell_type": "code",
   "execution_count": 1,
   "metadata": {},
   "outputs": [
    {
     "name": "stdout",
     "output_type": "stream",
     "text": [
      "pandas  1.0.3\n",
      "sklearn  0.22.1\n",
      "tensorflow  2.1.0\n",
      "keras  2.2.4\n"
     ]
    },
    {
     "name": "stderr",
     "output_type": "stream",
     "text": [
      "Using TensorFlow backend.\n"
     ]
    }
   ],
   "source": [
    "from data import downloadFromKaggle, normalizing_data, generating3DRNNInput\n",
    "from data import generateNewFeatures, separateInBatches, separateLabel, separatingTrainTest, normalize3DInput \n",
    "from data import read_data, readLocally, saveLocally, readDataFromCloud, saveToCloud \n",
    "from visualization import plot_roc_auc, pr_curve, print_confusion_matrix, visualize_data, printModelData, acc_plot, loss_plot, format_vertical_headers\n",
    "\n",
    "import joblib\n",
    "import pickle\n",
    "import pandas as pd\n",
    "import numpy as np\n",
    "\n",
    "# !pip install pandas sklearn tensorflow-gpu==2.1.0 keras --user\n",
    "\n",
    "import pandas, sklearn, tensorflow, keras\n",
    "print(\"pandas \",pandas.__version__)\n",
    "print(\"sklearn \", sklearn.__version__)\n",
    "print(\"tensorflow \", tensorflow.__version__)\n",
    "print(\"keras \", keras.__version__)"
   ]
  },
  {
   "cell_type": "code",
   "execution_count": 9,
   "metadata": {},
   "outputs": [
    {
     "name": "stdout",
     "output_type": "stream",
     "text": [
      "\n",
      "\n",
      "_ _ _ _ _ _ _ _ _ _  VISUALIZATION BEFORE TRANSFORMATION _ _ _ _ _ _ _ _ _ _ \n",
      "\n",
      "\n",
      "Total Fraud vs Non-Fraud Transactions Count: \n",
      "\n",
      "0    10484384\n",
      "1       26070\n",
      "Name: fraud, dtype: int64\n",
      "\n",
      "Number of customers:  73094\n",
      "Ratio of positive frauds vs total dataset: 0.25%\n",
      "\n",
      "Transactions per customer.\n",
      "\tMean: 143.8\n",
      "\tMax:  106871 \n",
      "\tNumber of Batches Using Max Amount as Fixed Size: 98.3 ~ 99\n",
      "\tNumber of Batches Using Mean Amount as Fixed Size: 73094.0 ~ 73094\n",
      "\n",
      "\n",
      "Samples per Step (day): \n",
      "\tMean: 7299 \n",
      "\tMax: 149517 \n",
      "\tNumber of Batches Using Max Amount as Fixed Size: 70.3 ~ 71\n",
      "\tNumber of Batches Using Mean Amount as Fixed Size: 1440.0 ~ 1440\n",
      "\n",
      "\n",
      "_ _ _ _ _ _ _ _ _ _  GROUPING TRANSACTIONS BY CUSTOMER ID _ _ _ _ _ _ _ _ _ _ \n",
      "\n",
      "\n",
      "LEN:  73094\n",
      "# Feaures:  8\n",
      "MIN TRANS PER CUST:  1\n",
      "MEAN TRANS PER CUST:  143.79366295455168  ~  144\n",
      "MAX TRANS PER CUST:  106871\n",
      "EXAMPLE: \n",
      "\n",
      "          step  customer  age  gender  merchant  category     amount  fraud\n",
      "814900     15         0    0       0     73854       NaN  168417.71      0\n",
      "3736454   141         0    0       0         2       NaN     872.28      0\n",
      "4665292   165         0    0       0     78877       NaN   12860.03      0\n",
      "6863578   236         0    0       0     78827       NaN  143589.58      0\n",
      "6863579   236         0    0       0     77536       NaN  150171.39      0\n",
      "7755624   262         0    0       0     47269       NaN  885157.53      0\n",
      "\n",
      "\n",
      "SCATTER PLOT SHOWING SIZES OF BATCHES GROUPED BY CUSTOMER ID: \n",
      "\n",
      "\n"
     ]
    },
    {
     "data": {
      "image/png": "[encoded data removed]",
      "text/plain": [
       "<Figure size 432x288 with 1 Axes>"
      ]
     },
     "metadata": {},
     "output_type": "display_data"
    },
    {
     "name": "stdout",
     "output_type": "stream",
     "text": [
      "\n",
      "\n",
      "BOX PLOT SHOWING MEAN SIZE OF BATCHES GROUPED BY CUSTOMER ID: \n",
      "\n",
      "\n"
     ]
    },
    {
     "data": {
      "text/plain": [
       "<Figure size 432x288 with 0 Axes>"
      ]
     },
     "metadata": {},
     "output_type": "display_data"
    },
    {
     "data": {
      "image/png": "[encoded data removed]",
      "text/plain": [
       "<Figure size 432x288 with 1 Axes>"
      ]
     },
     "metadata": {},
     "output_type": "display_data"
    },
    {
     "name": "stderr",
     "output_type": "stream",
     "text": [
      "  0% (268 of 73094) |                    | Elapsed Time: 0:00:00 ETA:   0:00:27"
     ]
    },
    {
     "name": "stdout",
     "output_type": "stream",
     "text": [
      "\n",
      "\n",
      "_ _ _ _ _ _ _ _ _ _  GENERATING 3D INPUT WITH BATCHES OF SIZE 144 _ _ _ _ _ _ _ _ _ _ \n",
      "\n",
      "\n"
     ]
    },
    {
     "name": "stderr",
     "output_type": "stream",
     "text": [
      " 98% (72169 of 73094) |################# | Elapsed Time: 0:37:46 ETA:   0:00:00"
     ]
    },
    {
     "name": "stdout",
     "output_type": "stream",
     "text": [
      "\n",
      "      The batches are separated by customer id. To be able to use the batches as input for the RNN, \n",
      "      it needs to have a static size. That is why the batch size is defined by the average number of \n",
      "      transactions done by the customers (144). If one of the customers have done less transactions,\n",
      "      the rest of the empty space is filled with -1 values. The final array size is (107189, 144, 8). The difference\n",
      "      between this new more compacted version than previous which uses the max amount of transactions\n",
      "      per customers is that if a customer has more than the average number of transactions, these \n",
      "      transactions are saved in a separate array called left_overs. The left overs are then shaped as\n",
      "      a 3D array and appended to the main array. The problem with this array which is more efficient in \n",
      "      space and has less empty rows is that the mayority of batches are arranged by customer ID but the\n",
      "      last batches are in disorder, having transactions from many customers.\n",
      "\n",
      " \n",
      "Total Empty Rows Added:  4924688 \n",
      "% Empty Rows Added: % 46.788002055192244 \n",
      "New Shape:  (73094, 144, 8) \n",
      "Left overs:  (4909680, 8) \n",
      "Left overs %:  46.6 \n",
      "Left overs new Shape:  (34095, 144, 8) \n",
      "Left overs empty rows:  74 \n",
      "Left overs empty rows percentage (%) over total dataset:  0.0007 \n",
      "Total Empty # Rows and %:  4924762  -  46.788705107274346 \n",
      "Mean of frauds per batch:  0.0011475058074989037 \n",
      "Percentage of frauds per batch:  0.00079687903298535 \n",
      "Final 3D Array Shape (Customer Batches + Left overs):  (107189, 144, 8)\n"
     ]
    },
    {
     "data": {
      "text/plain": [
       "<Figure size 432x288 with 0 Axes>"
      ]
     },
     "metadata": {},
     "output_type": "display_data"
    }
   ],
   "source": [
    "# visualize_data(filtered_data)\n",
    "rnn_data, smaller_batches_rnn_data = generating3DRNNInput(filtered_data, generate_with_max_size=False) #It generates Memory Error generating array with max size "
   ]
  },
  {
   "cell_type": "code",
   "execution_count": 10,
   "metadata": {},
   "outputs": [
    {
     "name": "stdout",
     "output_type": "stream",
     "text": [
      "\n",
      "\n",
      "_ _ _ _ _ _ _ _ _ _  GENERATING NEW FEATURES _ _ _ _ _ _ _ _ _ _ \n",
      "\n",
      "\n",
      "\n",
      "        The following features will created using the original Data. \n",
      "        The data generated is calculated inside each batch or group\n",
      "        or transactions grouped by custmer ID. Each calculation takes\n",
      "        all the data points before the current transaction in which the\n",
      "        loop index is currently located.\n",
      "\n",
      "        \t Current day number of transactions  - \"curr_day_tr_n\"\n",
      "        \t Average transaction amount per day  - \"ave_tr_p_day_amount\"\n",
      "        \t Total average transaction amount \n",
      "        \t From the beggining to current time  - \"tot_ave_tr_amount\"\n",
      "        \t Is the merchant new?                - \"is_mer_new\"\n",
      "        \t What is the common transaction type - \"com_tr_type\"\n",
      "        \t What is the common merchant ID      - \"com_mer\"\n",
      "        \n",
      "\n",
      "\n",
      "_ _ _ _ _ _ _ _ _ _ _ _ _ _ _ _ _ _ _ _ _ _ _ _ _ _ _ _ _ _  \n",
      "\n",
      "\n"
     ]
    },
    {
     "name": "stderr",
     "output_type": "stream",
     "text": [
      "C:\\Users\\ruben\\anaconda3\\lib\\site-packages\\numpy\\core\\fromnumeric.py:3335: RuntimeWarning: Mean of empty slice.\n",
      "  out=out, **kwargs)\n",
      "C:\\Users\\ruben\\anaconda3\\lib\\site-packages\\numpy\\core\\_methods.py:161: RuntimeWarning: invalid value encountered in double_scalars\n",
      "  ret = ret.dtype.type(ret / rcount)\n",
      "C:\\Users\\ruben\\Documents\\Github\\mitacs-internship\\data.py:289: RuntimeWarning: Mean of empty slice.\n",
      "  ave_n_trans_per_day       =  np.round(pd.DataFrame(b[:t_i, [step_col, amount_col]][ b[:t_i, step_col ] != -1 ], index=None, columns=None).groupby(by=0).mean().reset_index().values[:, 1].mean() , 2)\n",
      "C:\\Users\\ruben\\Documents\\Github\\mitacs-internship\\data.py:287: RuntimeWarning: invalid value encountered in greater\n",
      "  most_common_trans_type    =  np.bincount( b[:t_i,  cat_col ][b[:t_i, cat_col ] > 0].astype(int) ).argmax()  if  len(np.bincount( b[:t_i, cat_col ][b[:t_i, cat_col ] > 0].astype(int) )) > 0 else -1\n",
      " 99% (107188 of 107189) |############## | Elapsed Time: 13:58:14 ETA:   0:00:00"
     ]
    },
    {
     "name": "stdout",
     "output_type": "stream",
     "text": [
      "--- 50298.69 s seconds or 838.31 minutes ---\n",
      "(107189, 144, 13)\n",
      "[[ 1.5000e+01  0.0000e+00  0.0000e+00 ... -1.0000e+00 -1.0000e+00\n",
      "   0.0000e+00]\n",
      " [ 1.4100e+02  0.0000e+00  0.0000e+00 ... -1.0000e+00  7.3854e+04\n",
      "   0.0000e+00]\n",
      " [ 1.6500e+02  0.0000e+00  0.0000e+00 ... -1.0000e+00  2.0000e+00\n",
      "   0.0000e+00]\n",
      " ...\n",
      " [-1.0000e+00 -1.0000e+00 -1.0000e+00 ... -1.0000e+00  2.0000e+00\n",
      "  -1.0000e+00]\n",
      " [-1.0000e+00 -1.0000e+00 -1.0000e+00 ... -1.0000e+00  2.0000e+00\n",
      "  -1.0000e+00]\n",
      " [-1.0000e+00 -1.0000e+00 -1.0000e+00 ... -1.0000e+00  2.0000e+00\n",
      "  -1.0000e+00]]\n"
     ]
    }
   ],
   "source": [
    "# rnn_mod_data                       = generateNewFeatures(rnn_data)\n",
    "rnn_mod_data                       = generateNewFeatures(smaller_batches_rnn_data)"
   ]
  },
  {
   "cell_type": "code",
   "execution_count": null,
   "metadata": {},
   "outputs": [],
   "source": [
    "out_dir = \"data/generated/\"\n",
    "import joblib\n",
    "joblib.dump( rnn_mod_data     , out_dir+\"rnn_mod_data.data\" ) \n",
    "# pickle.dump( rnn_mod_data     , open( out_dir+\"rnn_mod_data.data\"      , \"wb\" ) ) "
   ]
  },
  {
   "cell_type": "code",
   "execution_count": 2,
   "metadata": {},
   "outputs": [
    {
     "data": {
      "text/plain": [
       "(107189, 144, 13)"
      ]
     },
     "execution_count": 2,
     "metadata": {},
     "output_type": "execute_result"
    }
   ],
   "source": [
    "import joblib\n",
    "out_dir = \"data/generated/\"\n",
    "rnn_mod_data = joblib.load( out_dir+\"rnn_mod_data.data\" ) \n",
    "rnn_mod_data.shape"
   ]
  },
  {
   "cell_type": "code",
   "execution_count": 3,
   "metadata": {
    "scrolled": true
   },
   "outputs": [
    {
     "name": "stderr",
     "output_type": "stream",
     "text": [
      "  0% (17 of 107189) |                    | Elapsed Time: 0:00:00 ETA:   0:21:03"
     ]
    },
    {
     "name": "stdout",
     "output_type": "stream",
     "text": [
      "\n",
      "\n",
      "_ _ _ _ _ _ _ _ _ _  SEPARATING IN BATCHES OF 25 _ _ _ _ _ _ _ _ _ _ \n",
      "\n",
      "\n",
      "\n",
      "    In the following procedure, the batches separaeted by customer and\n",
      "    generated in the previous function are iterated. Each transaction\n",
      "    that has been padded with value of '-1' will be deleted. new batches\n",
      "    of size '25' will be generated using sliding window through each \n",
      "    transaction in every customer batch. Padding will be added for batches \n",
      "    with less transactions than the min amount '25'.\n",
      "    Input Shape:                 (107189, 144, 13)\n",
      "    Data Shape:                  (107189, 144, 12)\n",
      "    Label Len:                   (107189, 144)\n",
      "    Padding Value:               -1\n",
      "    Column to check for \n",
      "    padding values to delete     0\n",
      "    transaction in the new batch\n",
      "    \n"
     ]
    },
    {
     "name": "stderr",
     "output_type": "stream",
     "text": [
      " 99% (107185 of 107189) |############### | Elapsed Time: 0:21:37 ETA:   0:00:00"
     ]
    }
   ],
   "source": [
    "import importlib, data\n",
    "import numpy as np, pandas as pd\n",
    "data = importlib.reload(data)\n",
    "from data import separatePaySimInBatches\n",
    "\n",
    "X, grouped_X, y, grouped_y         = separatePaySimInBatches(rnn_mod_data, min_batch_size=25)"
   ]
  },
  {
   "cell_type": "code",
   "execution_count": 4,
   "metadata": {},
   "outputs": [],
   "source": [
    "take_indexes = [ isinstance(x,np.ndarray) for x in X ]"
   ]
  },
  {
   "cell_type": "code",
   "execution_count": 5,
   "metadata": {},
   "outputs": [],
   "source": [
    "X_filtered = X[take_indexes]\n",
    "y_filtered = y[take_indexes]"
   ]
  },
  {
   "cell_type": "code",
   "execution_count": 6,
   "metadata": {},
   "outputs": [
    {
     "data": {
      "text/plain": [
       "((10510454,), (10510454,))"
      ]
     },
     "execution_count": 6,
     "metadata": {},
     "output_type": "execute_result"
    }
   ],
   "source": [
    "X_filtered.shape, y_filtered.shape"
   ]
  },
  {
   "cell_type": "code",
   "execution_count": null,
   "metadata": {},
   "outputs": [],
   "source": [
    "out_dir = \"data/generated/\"\n",
    "import joblib\n",
    "joblib.dump( X_filtered     , out_dir+\"X_filtered.data\" ) \n",
    "joblib.dump( y_filtered     , out_dir+\"y_filtered.data\" ) "
   ]
  },
  {
   "cell_type": "code",
   "execution_count": null,
   "metadata": {},
   "outputs": [],
   "source": [
    "out_dir = \"data/generated/\"\n",
    "import joblib\n",
    "X_filtered = joblib.load( out_dir+\"X_filtered.data\" ) \n",
    "y_filtered = joblib.load( out_dir+\"y_filtered.data\" ) \n",
    "print(\"X \", X_filtered.shape)\n",
    "print(\"y \", y_filtered.shape)"
   ]
  },
  {
   "cell_type": "code",
   "execution_count": null,
   "metadata": {},
   "outputs": [
    {
     "name": "stderr",
     "output_type": "stream",
     "text": [
      "  0% (460 of 10510454) |                 | Elapsed Time: 0:00:00 ETA:   1:16:14"
     ]
    },
    {
     "name": "stdout",
     "output_type": "stream",
     "text": [
      "NEW SHAPE:  10510454\n"
     ]
    },
    {
     "name": "stderr",
     "output_type": "stream",
     "text": [
      " 80% (8425509 of 10510454) |##########   | Elapsed Time: 1:00:48 ETA:   0:15:06"
     ]
    }
   ],
   "source": [
    "# take_indexes = [ isinstance(x,np.ndarray) and x.shape == (25,12) for x in X ]\n",
    "# X_filtered = np.take(X, take_indexes )\n",
    "# X_filtered.shape\n",
    "# print(\n",
    "#      take_indexes[:5], \n",
    "# #     len(take_indexes[take_indexes==False]), \n",
    "#     len(take_indexes)  \n",
    "# )\n",
    "import progressbar\n",
    "new_size = len(X_filtered) #int(len(X_filtered)*0.9)\n",
    "bar = progressbar.ProgressBar(max_value= len(X_filtered) )\n",
    "X_np = np.empty( (new_size, 25, 12) , dtype=np.float)\n",
    "y_np = np.empty( new_size , dtype=np.float)\n",
    "print(\"NEW SHAPE: \", new_size)\n",
    "\n",
    "i_2 = 0\n",
    "for i, x in enumerate(X_filtered):\n",
    "#     if(y_filtered[i] == 0):\n",
    "#         continue\n",
    "    i_a2 = 0\n",
    "    for i_a, a in enumerate(x):\n",
    "        i_b2 = 0\n",
    "        for i_b, b in enumerate(a):\n",
    "            if i_2 < new_size:\n",
    "                X_np[i_2][i_a2][i_b2] = X_filtered[i][i_a][i_b]\n",
    "                y_np[i_2] = y_filtered[i]\n",
    "                i_b2 += 1\n",
    "        i_a2 += 1\n",
    "    i_2 += 1\n",
    "    bar.update(i)\n"
   ]
  },
  {
   "cell_type": "code",
   "execution_count": 10,
   "metadata": {},
   "outputs": [],
   "source": [
    "empty_padding_value = -1\n",
    "y_np[y_np==empty_padding_value] = 0"
   ]
  },
  {
   "cell_type": "code",
   "execution_count": 11,
   "metadata": {},
   "outputs": [
    {
     "data": {
      "text/plain": [
       "(10510454, 25, 12)"
      ]
     },
     "execution_count": 11,
     "metadata": {},
     "output_type": "execute_result"
    }
   ],
   "source": [
    "X_np.shape"
   ]
  },
  {
   "cell_type": "code",
   "execution_count": 12,
   "metadata": {},
   "outputs": [
    {
     "data": {
      "text/plain": [
       "(10510454,)"
      ]
     },
     "execution_count": 12,
     "metadata": {},
     "output_type": "execute_result"
    }
   ],
   "source": [
    "y_np.shape"
   ]
  },
  {
   "cell_type": "code",
   "execution_count": 13,
   "metadata": {},
   "outputs": [
    {
     "data": {
      "text/plain": [
       "((10510454, 25, 12), (10510454,))"
      ]
     },
     "execution_count": 13,
     "metadata": {},
     "output_type": "execute_result"
    }
   ],
   "source": [
    "out_dir = \"data/generated/\"\n",
    "import joblib\n",
    "joblib.dump( X_np     , out_dir+\"X_unnorm.data\" ) \n",
    "joblib.dump( y_np     , out_dir+\"y.data\" ) \n",
    "X_np.shape, y_np.shape"
   ]
  },
  {
   "cell_type": "code",
   "execution_count": null,
   "metadata": {},
   "outputs": [],
   "source": [
    "# del rnn_mod_data"
   ]
  },
  {
   "cell_type": "code",
   "execution_count": 1,
   "metadata": {},
   "outputs": [],
   "source": [
    "import joblib\n",
    "out_dir = \"data/generated/\"\n",
    "X_np = joblib.load( out_dir+\"X_unnorm.data\" ) \n",
    "y    = joblib.load( out_dir+\"y.data\" ) "
   ]
  },
  {
   "cell_type": "code",
   "execution_count": 2,
   "metadata": {},
   "outputs": [
    {
     "data": {
      "text/plain": [
       "((10510454, 25, 12), (10510454,))"
      ]
     },
     "execution_count": 2,
     "metadata": {},
     "output_type": "execute_result"
    }
   ],
   "source": [
    "X_np.shape, y.shape"
   ]
  },
  {
   "cell_type": "code",
   "execution_count": 5,
   "metadata": {},
   "outputs": [
    {
     "name": "stdout",
     "output_type": "stream",
     "text": [
      "N: 10484384 99.75%\n"
     ]
    }
   ],
   "source": [
    "print(\"N: {} {:.2f}%\".format(len(y[y==0]), len(y[y==0])*100/len(y)))"
   ]
  },
  {
   "cell_type": "code",
   "execution_count": 6,
   "metadata": {},
   "outputs": [
    {
     "name": "stdout",
     "output_type": "stream",
     "text": [
      "P: 26070 0.25%\n"
     ]
    }
   ],
   "source": [
    "print(\"P: {} {:.2f}%\".format(len(y[y==1]), len(y[y==1])*100/len(y)))"
   ]
  },
  {
   "cell_type": "code",
   "execution_count": 8,
   "metadata": {},
   "outputs": [
    {
     "name": "stdout",
     "output_type": "stream",
     "text": [
      "\n",
      "\n",
      "_ _ _ _ _ _ _ _ _ _  SEPARATING TEST & TRAIN _ _ _ _ _ _ _ _ _ _ \n",
      "\n",
      "\n",
      "Converting 3D to 2D for easy processing. Batch Sample: \n",
      "\n",
      " [[-1.0000000e+00 -1.0000000e+00 -1.0000000e+00 -1.0000000e+00\n",
      "  -1.0000000e+00 -1.0000000e+00 -1.0000000e+00 -1.0000000e+00\n",
      "  -1.0000000e+00 -1.0000000e+00 -1.0000000e+00 -1.0000000e+00]\n",
      " [-1.0000000e+00 -1.0000000e+00 -1.0000000e+00 -1.0000000e+00\n",
      "  -1.0000000e+00 -1.0000000e+00 -1.0000000e+00 -1.0000000e+00\n",
      "  -1.0000000e+00 -1.0000000e+00 -1.0000000e+00 -1.0000000e+00]\n",
      " [-1.0000000e+00 -1.0000000e+00 -1.0000000e+00 -1.0000000e+00\n",
      "  -1.0000000e+00 -1.0000000e+00 -1.0000000e+00 -1.0000000e+00\n",
      "  -1.0000000e+00 -1.0000000e+00 -1.0000000e+00 -1.0000000e+00]\n",
      " [-1.0000000e+00 -1.0000000e+00 -1.0000000e+00 -1.0000000e+00\n",
      "  -1.0000000e+00 -1.0000000e+00 -1.0000000e+00 -1.0000000e+00\n",
      "  -1.0000000e+00 -1.0000000e+00 -1.0000000e+00 -1.0000000e+00]\n",
      " [-1.0000000e+00 -1.0000000e+00 -1.0000000e+00 -1.0000000e+00\n",
      "  -1.0000000e+00 -1.0000000e+00 -1.0000000e+00 -1.0000000e+00\n",
      "  -1.0000000e+00 -1.0000000e+00 -1.0000000e+00 -1.0000000e+00]\n",
      " [-1.0000000e+00 -1.0000000e+00 -1.0000000e+00 -1.0000000e+00\n",
      "  -1.0000000e+00 -1.0000000e+00 -1.0000000e+00 -1.0000000e+00\n",
      "  -1.0000000e+00 -1.0000000e+00 -1.0000000e+00 -1.0000000e+00]\n",
      " [-1.0000000e+00 -1.0000000e+00 -1.0000000e+00 -1.0000000e+00\n",
      "  -1.0000000e+00 -1.0000000e+00 -1.0000000e+00 -1.0000000e+00\n",
      "  -1.0000000e+00 -1.0000000e+00 -1.0000000e+00 -1.0000000e+00]\n",
      " [-1.0000000e+00 -1.0000000e+00 -1.0000000e+00 -1.0000000e+00\n",
      "  -1.0000000e+00 -1.0000000e+00 -1.0000000e+00 -1.0000000e+00\n",
      "  -1.0000000e+00 -1.0000000e+00 -1.0000000e+00 -1.0000000e+00]\n",
      " [-1.0000000e+00 -1.0000000e+00 -1.0000000e+00 -1.0000000e+00\n",
      "  -1.0000000e+00 -1.0000000e+00 -1.0000000e+00 -1.0000000e+00\n",
      "  -1.0000000e+00 -1.0000000e+00 -1.0000000e+00 -1.0000000e+00]\n",
      " [-1.0000000e+00 -1.0000000e+00 -1.0000000e+00 -1.0000000e+00\n",
      "  -1.0000000e+00 -1.0000000e+00 -1.0000000e+00 -1.0000000e+00\n",
      "  -1.0000000e+00 -1.0000000e+00 -1.0000000e+00 -1.0000000e+00]\n",
      " [-1.0000000e+00 -1.0000000e+00 -1.0000000e+00 -1.0000000e+00\n",
      "  -1.0000000e+00 -1.0000000e+00 -1.0000000e+00 -1.0000000e+00\n",
      "  -1.0000000e+00 -1.0000000e+00 -1.0000000e+00 -1.0000000e+00]\n",
      " [-1.0000000e+00 -1.0000000e+00 -1.0000000e+00 -1.0000000e+00\n",
      "  -1.0000000e+00 -1.0000000e+00 -1.0000000e+00 -1.0000000e+00\n",
      "  -1.0000000e+00 -1.0000000e+00 -1.0000000e+00 -1.0000000e+00]\n",
      " [-1.0000000e+00 -1.0000000e+00 -1.0000000e+00 -1.0000000e+00\n",
      "  -1.0000000e+00 -1.0000000e+00 -1.0000000e+00 -1.0000000e+00\n",
      "  -1.0000000e+00 -1.0000000e+00 -1.0000000e+00 -1.0000000e+00]\n",
      " [-1.0000000e+00 -1.0000000e+00 -1.0000000e+00 -1.0000000e+00\n",
      "  -1.0000000e+00 -1.0000000e+00 -1.0000000e+00 -1.0000000e+00\n",
      "  -1.0000000e+00 -1.0000000e+00 -1.0000000e+00 -1.0000000e+00]\n",
      " [-1.0000000e+00 -1.0000000e+00 -1.0000000e+00 -1.0000000e+00\n",
      "  -1.0000000e+00 -1.0000000e+00 -1.0000000e+00 -1.0000000e+00\n",
      "  -1.0000000e+00 -1.0000000e+00 -1.0000000e+00 -1.0000000e+00]\n",
      " [-1.0000000e+00 -1.0000000e+00 -1.0000000e+00 -1.0000000e+00\n",
      "  -1.0000000e+00 -1.0000000e+00 -1.0000000e+00 -1.0000000e+00\n",
      "  -1.0000000e+00 -1.0000000e+00 -1.0000000e+00 -1.0000000e+00]\n",
      " [-1.0000000e+00 -1.0000000e+00 -1.0000000e+00 -1.0000000e+00\n",
      "  -1.0000000e+00 -1.0000000e+00 -1.0000000e+00 -1.0000000e+00\n",
      "  -1.0000000e+00 -1.0000000e+00 -1.0000000e+00 -1.0000000e+00]\n",
      " [-1.0000000e+00 -1.0000000e+00 -1.0000000e+00 -1.0000000e+00\n",
      "  -1.0000000e+00 -1.0000000e+00 -1.0000000e+00 -1.0000000e+00\n",
      "  -1.0000000e+00 -1.0000000e+00 -1.0000000e+00 -1.0000000e+00]\n",
      " [-1.0000000e+00 -1.0000000e+00 -1.0000000e+00 -1.0000000e+00\n",
      "  -1.0000000e+00 -1.0000000e+00 -1.0000000e+00 -1.0000000e+00\n",
      "  -1.0000000e+00 -1.0000000e+00 -1.0000000e+00 -1.0000000e+00]\n",
      " [-1.0000000e+00 -1.0000000e+00 -1.0000000e+00 -1.0000000e+00\n",
      "  -1.0000000e+00 -1.0000000e+00 -1.0000000e+00 -1.0000000e+00\n",
      "  -1.0000000e+00 -1.0000000e+00 -1.0000000e+00 -1.0000000e+00]\n",
      " [-1.0000000e+00 -1.0000000e+00 -1.0000000e+00 -1.0000000e+00\n",
      "  -1.0000000e+00 -1.0000000e+00 -1.0000000e+00 -1.0000000e+00\n",
      "  -1.0000000e+00 -1.0000000e+00 -1.0000000e+00 -1.0000000e+00]\n",
      " [-1.0000000e+00 -1.0000000e+00 -1.0000000e+00 -1.0000000e+00\n",
      "  -1.0000000e+00 -1.0000000e+00 -1.0000000e+00 -1.0000000e+00\n",
      "  -1.0000000e+00 -1.0000000e+00 -1.0000000e+00 -1.0000000e+00]\n",
      " [-1.0000000e+00 -1.0000000e+00 -1.0000000e+00 -1.0000000e+00\n",
      "  -1.0000000e+00 -1.0000000e+00 -1.0000000e+00 -1.0000000e+00\n",
      "  -1.0000000e+00 -1.0000000e+00 -1.0000000e+00 -1.0000000e+00]\n",
      " [-1.0000000e+00 -1.0000000e+00 -1.0000000e+00 -1.0000000e+00\n",
      "  -1.0000000e+00 -1.0000000e+00 -1.0000000e+00 -1.0000000e+00\n",
      "  -1.0000000e+00 -1.0000000e+00 -1.0000000e+00 -1.0000000e+00]\n",
      " [ 1.5000000e+01  0.0000000e+00  0.0000000e+00  7.3854000e+04\n",
      "  -1.0000000e+00  1.6841771e+05  1.0000000e+00 -1.0000000e+00\n",
      "  -1.0000000e+00  1.0000000e+00 -1.0000000e+00 -1.0000000e+00]] \n",
      "\n",
      " Original Array Shape: (10510454, 25, 12). Temporary array with shape: (262761350, 12)\n",
      "\n",
      "\n",
      "    SCALER INFORMATION\n",
      "    MAX:    [ 1.43900000e+03  0.00000000e+00  0.00000000e+00  7.91020000e+04\n",
      " -1.00000000e+00  2.33800034e+07  1.44000000e+02  1.18702137e+07\n",
      "  1.18702137e+07  1.00000000e+00 -1.00000000e+00  7.91020000e+04]\n",
      "    MIN:    [-1. -1. -1. -1. -1. -1. -1. -1. -1. -1. -1. -1.]\n",
      "    SCALE:  [6.94444444e-04 1.00000000e+00 1.00000000e+00 1.26417456e-05\n",
      " 1.00000000e+00 4.27715917e-08 6.89655172e-03 8.42444748e-08\n",
      " 8.42444748e-08 5.00000000e-01 1.00000000e+00 1.26417456e-05]\n",
      "    RANGE:  [1.44000000e+03 1.00000000e+00 1.00000000e+00 7.91030000e+04\n",
      " 0.00000000e+00 2.33800044e+07 1.45000000e+02 1.18702147e+07\n",
      " 1.18702147e+07 2.00000000e+00 0.00000000e+00 7.91030000e+04]\n",
      "    PARAMS: {'copy': True, 'feature_range': (0, 1)}\n",
      "    Data Normalized and reshaped to a 3D array. \n",
      "    Current Shape: (10510454, 25, 12) \n",
      "    Saving scaler to file: [[0.         0.         0.         0.         0.         0.\n",
      "  0.         0.         0.         0.         0.         0.        ]\n",
      " [0.         0.         0.         0.         0.         0.\n",
      "  0.         0.         0.         0.         0.         0.        ]\n",
      " [0.         0.         0.         0.         0.         0.\n",
      "  0.         0.         0.         0.         0.         0.        ]\n",
      " [0.         0.         0.         0.         0.         0.\n",
      "  0.         0.         0.         0.         0.         0.        ]\n",
      " [0.         0.         0.         0.         0.         0.\n",
      "  0.         0.         0.         0.         0.         0.        ]\n",
      " [0.         0.         0.         0.         0.         0.\n",
      "  0.         0.         0.         0.         0.         0.        ]\n",
      " [0.         0.         0.         0.         0.         0.\n",
      "  0.         0.         0.         0.         0.         0.        ]\n",
      " [0.         0.         0.         0.         0.         0.\n",
      "  0.         0.         0.         0.         0.         0.        ]\n",
      " [0.         0.         0.         0.         0.         0.\n",
      "  0.         0.         0.         0.         0.         0.        ]\n",
      " [0.         0.         0.         0.         0.         0.\n",
      "  0.         0.         0.         0.         0.         0.        ]\n",
      " [0.         0.         0.         0.         0.         0.\n",
      "  0.         0.         0.         0.         0.         0.        ]\n",
      " [0.         0.         0.         0.         0.         0.\n",
      "  0.         0.         0.         0.         0.         0.        ]\n",
      " [0.         0.         0.         0.         0.         0.\n",
      "  0.         0.         0.         0.         0.         0.        ]\n",
      " [0.         0.         0.         0.         0.         0.\n",
      "  0.         0.         0.         0.         0.         0.        ]\n",
      " [0.         0.         0.         0.         0.         0.\n",
      "  0.         0.         0.         0.         0.         0.        ]\n",
      " [0.         0.         0.         0.         0.         0.\n",
      "  0.         0.         0.         0.         0.         0.        ]\n",
      " [0.         0.         0.         0.         0.         0.\n",
      "  0.         0.         0.         0.         0.         0.        ]\n",
      " [0.         0.         0.         0.         0.         0.\n",
      "  0.         0.         0.         0.         0.         0.        ]\n",
      " [0.         0.         0.         0.         0.         0.\n",
      "  0.         0.         0.         0.         0.         0.        ]\n",
      " [0.         0.         0.         0.         0.         0.\n",
      "  0.         0.         0.         0.         0.         0.        ]\n",
      " [0.         0.         0.         0.         0.         0.\n",
      "  0.         0.         0.         0.         0.         0.        ]\n",
      " [0.         0.         0.         0.         0.         0.\n",
      "  0.         0.         0.         0.         0.         0.        ]\n",
      " [0.         0.         0.         0.         0.         0.\n",
      "  0.         0.         0.         0.         0.         0.        ]\n",
      " [0.         0.         0.         0.         0.         0.\n",
      "  0.         0.         0.         0.         0.         0.        ]\n",
      " [0.01111111 1.         1.         0.93365612 0.         0.00720354\n",
      "  0.0137931  0.         0.         1.         0.         0.        ]]\n",
      "    \n"
     ]
    }
   ],
   "source": [
    "from data import normalize3DInput\n",
    "X_norm                             = normalize3DInput(X_np)"
   ]
  },
  {
   "cell_type": "code",
   "execution_count": 9,
   "metadata": {},
   "outputs": [
    {
     "data": {
      "text/plain": [
       "['data/generated/X_norm.data']"
      ]
     },
     "execution_count": 9,
     "metadata": {},
     "output_type": "execute_result"
    }
   ],
   "source": [
    "out_dir = \"data/generated/\"\n",
    "import joblib\n",
    "joblib.dump( X_norm     , out_dir+\"X_norm.data\" ) "
   ]
  },
  {
   "cell_type": "code",
   "execution_count": 1,
   "metadata": {},
   "outputs": [
    {
     "data": {
      "text/plain": [
       "((10510454, 25, 12), (10510454,))"
      ]
     },
     "execution_count": 1,
     "metadata": {},
     "output_type": "execute_result"
    }
   ],
   "source": [
    "out_dir = \"data/generated/\"\n",
    "import joblib\n",
    "X_norm = joblib.load( out_dir+\"X_norm.data\" ) \n",
    "y      = joblib.load( out_dir+\"y.data\" ) \n",
    "X_norm.shape, y.shape"
   ]
  },
  {
   "cell_type": "code",
   "execution_count": 3,
   "metadata": {},
   "outputs": [
    {
     "name": "stdout",
     "output_type": "stream",
     "text": [
      "\n",
      "\n",
      "_ _ _ _ _ _ _ _ _ _  SEPARATING TEST & TRAIN _ _ _ _ _ _ _ _ _ _ \n",
      "\n",
      "\n"
     ]
    },
    {
     "ename": "MemoryError",
     "evalue": "Unable to allocate 16.9 GiB for an array with shape (7567526, 25, 12) and data type float64",
     "output_type": "error",
     "traceback": [
      "\u001b[0;31m---------------------------------------------------------------------------\u001b[0m",
      "\u001b[0;31mMemoryError\u001b[0m                               Traceback (most recent call last)",
      "\u001b[0;32m<ipython-input-3-078c94eab37c>\u001b[0m in \u001b[0;36m<module>\u001b[0;34m\u001b[0m\n\u001b[1;32m      1\u001b[0m \u001b[0;32mfrom\u001b[0m \u001b[0mdata\u001b[0m \u001b[0;32mimport\u001b[0m \u001b[0mseparatingTrainTest\u001b[0m\u001b[0;34m\u001b[0m\u001b[0;34m\u001b[0m\u001b[0m\n\u001b[0;32m----> 2\u001b[0;31m \u001b[0mX_train\u001b[0m\u001b[0;34m,\u001b[0m \u001b[0mX_test\u001b[0m\u001b[0;34m,\u001b[0m \u001b[0my_train\u001b[0m\u001b[0;34m,\u001b[0m \u001b[0my_test\u001b[0m\u001b[0;34m,\u001b[0m \u001b[0mX_val\u001b[0m\u001b[0;34m,\u001b[0m \u001b[0my_val\u001b[0m \u001b[0;34m=\u001b[0m \u001b[0mseparatingTrainTest\u001b[0m\u001b[0;34m(\u001b[0m\u001b[0mX_norm\u001b[0m\u001b[0;34m,\u001b[0m \u001b[0my\u001b[0m\u001b[0;34m,\u001b[0m \u001b[0mtest_size\u001b[0m\u001b[0;34m=\u001b[0m\u001b[0;36m0.1\u001b[0m\u001b[0;34m,\u001b[0m \u001b[0mval_size\u001b[0m\u001b[0;34m=\u001b[0m\u001b[0;36m0.1\u001b[0m\u001b[0;34m)\u001b[0m\u001b[0;34m\u001b[0m\u001b[0;34m\u001b[0m\u001b[0m\n\u001b[0m",
      "\u001b[0;32m~/SageMaker/mitacs-internship/data.py\u001b[0m in \u001b[0;36mseparatingTrainTest\u001b[0;34m(X, y, test_size, val_size)\u001b[0m\n\u001b[1;32m    621\u001b[0m         \u001b[0mtest_size\u001b[0m\u001b[0;34m=\u001b[0m\u001b[0mval_size\u001b[0m\u001b[0;34m,\u001b[0m\u001b[0;34m\u001b[0m\u001b[0;34m\u001b[0m\u001b[0m\n\u001b[1;32m    622\u001b[0m         \u001b[0mrandom_state\u001b[0m\u001b[0;34m=\u001b[0m\u001b[0;36m1\u001b[0m\u001b[0;34m,\u001b[0m\u001b[0;34m\u001b[0m\u001b[0;34m\u001b[0m\u001b[0m\n\u001b[0;32m--> 623\u001b[0;31m         \u001b[0mshuffle\u001b[0m\u001b[0;34m=\u001b[0m\u001b[0;32mTrue\u001b[0m\u001b[0;34m,\u001b[0m\u001b[0;34m\u001b[0m\u001b[0;34m\u001b[0m\u001b[0m\n\u001b[0m\u001b[1;32m    624\u001b[0m \u001b[0;31m#         stratify=y\u001b[0m\u001b[0;34m\u001b[0m\u001b[0;34m\u001b[0m\u001b[0;34m\u001b[0m\u001b[0m\n\u001b[1;32m    625\u001b[0m     )\n",
      "\u001b[0;32m~/anaconda3/envs/verafin-mitacs-2020/lib/python3.6/site-packages/sklearn/model_selection/_split.py\u001b[0m in \u001b[0;36mtrain_test_split\u001b[0;34m(*arrays, **options)\u001b[0m\n\u001b[1;32m   2144\u001b[0m \u001b[0;34m\u001b[0m\u001b[0m\n\u001b[1;32m   2145\u001b[0m     return list(chain.from_iterable((_safe_indexing(a, train),\n\u001b[0;32m-> 2146\u001b[0;31m                                      _safe_indexing(a, test)) for a in arrays))\n\u001b[0m\u001b[1;32m   2147\u001b[0m \u001b[0;34m\u001b[0m\u001b[0m\n\u001b[1;32m   2148\u001b[0m \u001b[0;34m\u001b[0m\u001b[0m\n",
      "\u001b[0;32m~/anaconda3/envs/verafin-mitacs-2020/lib/python3.6/site-packages/sklearn/model_selection/_split.py\u001b[0m in \u001b[0;36m<genexpr>\u001b[0;34m(.0)\u001b[0m\n\u001b[1;32m   2144\u001b[0m \u001b[0;34m\u001b[0m\u001b[0m\n\u001b[1;32m   2145\u001b[0m     return list(chain.from_iterable((_safe_indexing(a, train),\n\u001b[0;32m-> 2146\u001b[0;31m                                      _safe_indexing(a, test)) for a in arrays))\n\u001b[0m\u001b[1;32m   2147\u001b[0m \u001b[0;34m\u001b[0m\u001b[0m\n\u001b[1;32m   2148\u001b[0m \u001b[0;34m\u001b[0m\u001b[0m\n",
      "\u001b[0;32m~/anaconda3/envs/verafin-mitacs-2020/lib/python3.6/site-packages/sklearn/utils/__init__.py\u001b[0m in \u001b[0;36m_safe_indexing\u001b[0;34m(X, indices, axis)\u001b[0m\n\u001b[1;32m    411\u001b[0m         \u001b[0;32mreturn\u001b[0m \u001b[0m_pandas_indexing\u001b[0m\u001b[0;34m(\u001b[0m\u001b[0mX\u001b[0m\u001b[0;34m,\u001b[0m \u001b[0mindices\u001b[0m\u001b[0;34m,\u001b[0m \u001b[0mindices_dtype\u001b[0m\u001b[0;34m,\u001b[0m \u001b[0maxis\u001b[0m\u001b[0;34m=\u001b[0m\u001b[0maxis\u001b[0m\u001b[0;34m)\u001b[0m\u001b[0;34m\u001b[0m\u001b[0;34m\u001b[0m\u001b[0m\n\u001b[1;32m    412\u001b[0m     \u001b[0;32melif\u001b[0m \u001b[0mhasattr\u001b[0m\u001b[0;34m(\u001b[0m\u001b[0mX\u001b[0m\u001b[0;34m,\u001b[0m \u001b[0;34m\"shape\"\u001b[0m\u001b[0;34m)\u001b[0m\u001b[0;34m:\u001b[0m\u001b[0;34m\u001b[0m\u001b[0;34m\u001b[0m\u001b[0m\n\u001b[0;32m--> 413\u001b[0;31m         \u001b[0;32mreturn\u001b[0m \u001b[0m_array_indexing\u001b[0m\u001b[0;34m(\u001b[0m\u001b[0mX\u001b[0m\u001b[0;34m,\u001b[0m \u001b[0mindices\u001b[0m\u001b[0;34m,\u001b[0m \u001b[0mindices_dtype\u001b[0m\u001b[0;34m,\u001b[0m \u001b[0maxis\u001b[0m\u001b[0;34m=\u001b[0m\u001b[0maxis\u001b[0m\u001b[0;34m)\u001b[0m\u001b[0;34m\u001b[0m\u001b[0;34m\u001b[0m\u001b[0m\n\u001b[0m\u001b[1;32m    414\u001b[0m     \u001b[0;32melse\u001b[0m\u001b[0;34m:\u001b[0m\u001b[0;34m\u001b[0m\u001b[0;34m\u001b[0m\u001b[0m\n\u001b[1;32m    415\u001b[0m         \u001b[0;32mreturn\u001b[0m \u001b[0m_list_indexing\u001b[0m\u001b[0;34m(\u001b[0m\u001b[0mX\u001b[0m\u001b[0;34m,\u001b[0m \u001b[0mindices\u001b[0m\u001b[0;34m,\u001b[0m \u001b[0mindices_dtype\u001b[0m\u001b[0;34m)\u001b[0m\u001b[0;34m\u001b[0m\u001b[0;34m\u001b[0m\u001b[0m\n",
      "\u001b[0;32m~/anaconda3/envs/verafin-mitacs-2020/lib/python3.6/site-packages/sklearn/utils/__init__.py\u001b[0m in \u001b[0;36m_array_indexing\u001b[0;34m(array, key, key_dtype, axis)\u001b[0m\n\u001b[1;32m    197\u001b[0m     \u001b[0;32mif\u001b[0m \u001b[0misinstance\u001b[0m\u001b[0;34m(\u001b[0m\u001b[0mkey\u001b[0m\u001b[0;34m,\u001b[0m \u001b[0mtuple\u001b[0m\u001b[0;34m)\u001b[0m\u001b[0;34m:\u001b[0m\u001b[0;34m\u001b[0m\u001b[0;34m\u001b[0m\u001b[0m\n\u001b[1;32m    198\u001b[0m         \u001b[0mkey\u001b[0m \u001b[0;34m=\u001b[0m \u001b[0mlist\u001b[0m\u001b[0;34m(\u001b[0m\u001b[0mkey\u001b[0m\u001b[0;34m)\u001b[0m\u001b[0;34m\u001b[0m\u001b[0;34m\u001b[0m\u001b[0m\n\u001b[0;32m--> 199\u001b[0;31m     \u001b[0;32mreturn\u001b[0m \u001b[0marray\u001b[0m\u001b[0;34m[\u001b[0m\u001b[0mkey\u001b[0m\u001b[0;34m]\u001b[0m \u001b[0;32mif\u001b[0m \u001b[0maxis\u001b[0m \u001b[0;34m==\u001b[0m \u001b[0;36m0\u001b[0m \u001b[0;32melse\u001b[0m \u001b[0marray\u001b[0m\u001b[0;34m[\u001b[0m\u001b[0;34m:\u001b[0m\u001b[0;34m,\u001b[0m \u001b[0mkey\u001b[0m\u001b[0;34m]\u001b[0m\u001b[0;34m\u001b[0m\u001b[0;34m\u001b[0m\u001b[0m\n\u001b[0m\u001b[1;32m    200\u001b[0m \u001b[0;34m\u001b[0m\u001b[0m\n\u001b[1;32m    201\u001b[0m \u001b[0;34m\u001b[0m\u001b[0m\n",
      "\u001b[0;31mMemoryError\u001b[0m: Unable to allocate 16.9 GiB for an array with shape (7567526, 25, 12) and data type float64"
     ]
    }
   ],
   "source": [
    "from data import separatingTrainTest\n",
    "X_train, X_test, y_train, y_test, X_val, y_val = separatingTrainTest(X_norm, y, test_size=0.1, val_size=0.1)"
   ]
  },
  {
   "cell_type": "code",
   "execution_count": 3,
   "metadata": {},
   "outputs": [],
   "source": [
    "from sklearn.model_selection import train_test_split\n",
    "\n",
    "X_train, X_test, y_train, y_test = train_test_split(\n",
    "    X_norm, y, \n",
    "    test_size=0.2, \n",
    "    random_state=42\n",
    ")\n"
   ]
  },
  {
   "cell_type": "code",
   "execution_count": 4,
   "metadata": {},
   "outputs": [
    {
     "data": {
      "text/plain": [
       "((8408363, 25, 12), (2102091, 25, 12), (8408363,), (2102091,))"
      ]
     },
     "execution_count": 4,
     "metadata": {},
     "output_type": "execute_result"
    }
   ],
   "source": [
    "X_train.shape, X_test.shape, y_train.shape, y_test.shape"
   ]
  },
  {
   "cell_type": "code",
   "execution_count": null,
   "metadata": {},
   "outputs": [],
   "source": [
    "X_train, X_test, y_val, y_val = train_test_split(\n",
    "    X_train, y_train, \n",
    "    test_size=0.2, \n",
    "    random_state=42\n",
    ")\n"
   ]
  },
  {
   "cell_type": "code",
   "execution_count": 9,
   "metadata": {},
   "outputs": [
    {
     "name": "stdout",
     "output_type": "stream",
     "text": [
      "SHAPES & KEYS:\n",
      "X_train          : (8408363, 25, 12) P: 0.25 N: 99.75\n",
      "y_train          : (8408363,)\n",
      "________________________\n",
      "X_test           : (2102091, 25, 12) P: 0.25 N: 99.75\n",
      "y_test           : (2102091,)\n",
      "\n"
     ]
    }
   ],
   "source": [
    "print(\"\"\"SHAPES & KEYS:\n",
    "X_train          : {} P: {:.2f} N: {:.2f}\n",
    "y_train          : {}\n",
    "________________________\n",
    "X_test           : {} P: {:.2f} N: {:.2f}\n",
    "y_test           : {}\n",
    "\"\"\".format(\n",
    "    X_train.shape,  len(y_train[y_train==1])*100/len(y_train),  len(y_train[y_train==0])*100/len(y_train),\n",
    "    y_train.shape,\n",
    "    X_test.shape,   len(y_test[y_test==1])*100/len(y_test),  len(y_test[y_test==0])*100/len(y_test),  \n",
    "    y_test.shape\n",
    "))"
   ]
  },
  {
   "cell_type": "code",
   "execution_count": 11,
   "metadata": {},
   "outputs": [
    {
     "data": {
      "text/plain": [
       "['data/generated/y_test.data']"
      ]
     },
     "execution_count": 11,
     "metadata": {},
     "output_type": "execute_result"
    }
   ],
   "source": [
    "out_dir = \"data/generated/\"\n",
    "import joblib\n",
    "joblib.dump( X_train      , out_dir+\"X_train.data\" ) \n",
    "joblib.dump( X_test       , out_dir+\"X_test.data\"  )\n",
    "joblib.dump( y_train      , out_dir+\"y_train.data\" )\n",
    "joblib.dump( y_test       , out_dir+\"y_test.data\"  )"
   ]
  },
  {
   "cell_type": "code",
   "execution_count": 1,
   "metadata": {},
   "outputs": [
    {
     "name": "stdout",
     "output_type": "stream",
     "text": [
      "SHAPES & KEYS:\n",
      "X_train          : (8408363, 25, 12) P: 0.25 N: 99.75\n",
      "y_train          : (8408363,)\n",
      "________________________\n",
      "X_test           : (2102091, 25, 12) P: 0.25 N: 99.75\n",
      "y_test           : (2102091,)\n",
      "\n"
     ]
    }
   ],
   "source": [
    "out_dir = \"data/generated/\"\n",
    "import joblib\n",
    "X_train = joblib.load( out_dir+\"X_train.data\" ) \n",
    "X_test  = joblib.load( out_dir+\"X_test.data\"  )\n",
    "y_train = joblib.load( out_dir+\"y_train.data\" )\n",
    "y_test  = joblib.load( out_dir+\"y_test.data\"  )\n",
    "\n",
    "print(\"\"\"SHAPES & KEYS:\n",
    "X_train          : {} P: {:.2f} N: {:.2f}\n",
    "y_train          : {}\n",
    "________________________\n",
    "X_test           : {} P: {:.2f} N: {:.2f}\n",
    "y_test           : {}\n",
    "\"\"\".format(\n",
    "    X_train.shape,  len(y_train[y_train==1])*100/len(y_train),  len(y_train[y_train==0])*100/len(y_train),\n",
    "    y_train.shape,\n",
    "    X_test.shape,   len(y_test[y_test==1])*100/len(y_test),  len(y_test[y_test==0])*100/len(y_test),  \n",
    "    y_test.shape\n",
    "))"
   ]
  },
  {
   "cell_type": "code",
   "execution_count": null,
   "metadata": {},
   "outputs": [
    {
     "name": "stdout",
     "output_type": "stream",
     "text": [
      "8408363 25 12\n",
      "data/generated/gru_paysim_2_rnn_layers_no_l1_checkpoints.h5\n",
      "data/generated/gru_paysim_2_rnn_layers_no_l1.h5\n",
      "\n",
      "\n",
      "_ _ _ _ _ _ _ _ _ _  CREATING RNN MODEL WITHOUT L1 REGULARIZATION _ _ _ _ _ _ _ _ _ _ \n",
      "\n",
      "\n",
      "\n",
      "\n",
      "_ _ _ _ _ _ _ _ _ _  INITIALIZING GRID SEARCH RNN MODEL _ _ _ _ _ _ _ _ _ _ \n",
      "\n",
      "\n",
      "\n",
      "        PARAMETERS:\n",
      "        ________________________________\n",
      "        input_shape :  (25, 12)\n",
      "        output_dim  :  1\n",
      "        main scoring:  recall\n",
      "        all scoring :  ['accuracy', 'precision', 'recall', 'roc_auc', 'f1', 'average_precision']\n",
      "        early_stopping_monitor   : val_recall\n",
      "        model_checkpoint_monitor : val_recall\n",
      "        verbose: 1\n",
      "        callbacks: \n",
      "\n",
      "[<tensorflow.python.keras.callbacks.EarlyStopping object at 0x7f79e47f5b70>, <tensorflow.python.keras.callbacks.ModelCheckpoint object at 0x7f79e47f5a90>, <tensorflow.python.keras.callbacks.CSVLogger object at 0x7f79e4681be0>, <tensorflow.python.keras.callbacks.TensorBoard object at 0x7f79e4681ba8>, <tensorflow.python.keras.callbacks.ProgbarLogger object at 0x7f79e46819e8>]\n",
      "\n",
      "\n",
      "        \n",
      "modelType : ['GRU']\n",
      "dropout : [True]\n",
      "dropout_rate : [0.2]\n",
      "epochs : [50]\n",
      "hidden_layer_activation : ['sigmoid']\n",
      "hidden_layers : [2]\n",
      "hidden_layers_neurons : [300]\n",
      "loss : ['binary_crossentropy']\n",
      "optimizer : ['adam']\n",
      "output_layer_activation : ['sigmoid']\n",
      "rnn_hidden_layers : [1]\n",
      "rnn_hidden_layers_neurons : [50]\n",
      "rnn_layer_activation : ['sigmoid']\n",
      "\n",
      "\n",
      "\n",
      "\n",
      "\n",
      "_ _ _ _ _ _ _ _ _ _  TRAINING RNN _ _ _ _ _ _ _ _ _ _ \n",
      "\n",
      "\n",
      "Generating Class Weights.\n",
      "\n",
      "        Class weights: \n",
      "[  0.50124298 201.62972999]\n",
      "{0: 0.501242978847601, 1: 201.62972998896936}\n",
      "\n",
      "        for classes: \n",
      "[0. 1.]\n",
      "\n",
      "        # Frauds: 20851\n",
      "        # of Non-Frauds: 8387512\n",
      "        \n",
      "INPUTS\n",
      "        X:      (8408363, 25, 12)\n",
      "        y:      (8408363,)\n",
      "        X_test: (2102091, 25, 12)\n",
      "        y_test: (2102091,)\n",
      "        \n",
      "Fitting 10 folds for each of 1 candidates, totalling 10 fits\n"
     ]
    },
    {
     "name": "stderr",
     "output_type": "stream",
     "text": [
      "[Parallel(n_jobs=1)]: Using backend SequentialBackend with 1 concurrent workers.\n"
     ]
    },
    {
     "name": "stdout",
     "output_type": "stream",
     "text": [
      "\n",
      "\n",
      "_ _ _ _ _ _ _ _ _ _  CREATING ML MODEL _ _ _ _ _ _ _ _ _ _ \n",
      "\n",
      "\n",
      "\n",
      "        PARAMETERS:\n",
      "        ________________________________ \n",
      "          rnn_hidden_layers:         1 \n",
      "          rnn_hidden_layers_neurons: 50 \n",
      "          hidden_layers:             2 \n",
      "          hidden_layers_neurons:     300\n",
      "          loss:                      binary_crossentropy\n",
      "          optimizer:                 adam\n",
      "          modelType:                 GRU\n",
      "          dropout:                   True\n",
      "          dropout_rate:              0.2\n",
      "          input_shape:               (25, 12)\n",
      "          output_dim:                1\n",
      "          output_layer_activation:   sigmoid\n",
      "          rnn_layer_activation:      sigmoid\n",
      "          hidden_layer_activation:   sigmoid\n",
      "          keras_eval_metric:         [[<tensorflow.python.keras.metrics.TruePositives object at 0x7f79e44d17b8>, <tensorflow.python.keras.metrics.FalsePositives object at 0x7f79e44d1cc0>, <tensorflow.python.keras.metrics.TrueNegatives object at 0x7f79e44d1f98>, <tensorflow.python.keras.metrics.FalseNegatives object at 0x7f79e44a0320>, <tensorflow.python.keras.metrics.BinaryAccuracy object at 0x7f79e44a05c0>, <tensorflow.python.keras.metrics.Precision object at 0x7f79e44a0978>, <tensorflow.python.keras.metrics.Recall object at 0x7f79e44a0c18>, <tensorflow.python.keras.metrics.AUC object at 0x7f79e44a0f28>]]\n",
      "          return_sequences:          True\n",
      "          callbacks:                 [<tensorflow.python.keras.callbacks.EarlyStopping object at 0x7f79e44d1390>, <tensorflow.python.keras.callbacks.ModelCheckpoint object at 0x7f79e44d13c8>, <tensorflow.python.keras.callbacks.CSVLogger object at 0x7f79e44d1438>, <tensorflow.python.keras.callbacks.TensorBoard object at 0x7f79e44d14a8>, <tensorflow.python.keras.callbacks.ProgbarLogger object at 0x7f79e44d1518>]\n",
      "          \n",
      "\n"
     ]
    }
   ],
   "source": [
    "from models import RNNModel\n",
    "import numpy as np\n",
    "import pandas as pd\n",
    "import joblib\n",
    "from data import readLocally\n",
    "from sklearn.metrics import confusion_matrix\n",
    "from visualization import plot_roc_auc, pr_curve, format_vertical_headers, print_confusion_matrix, printModelData\n",
    "\n",
    "gru_param_grid = {\n",
    "    'modelType': ['GRU'], \n",
    "    'dropout': [True],\n",
    "    'dropout_rate': [0.2], \n",
    "    'epochs': [50], \n",
    "    'hidden_layer_activation': ['sigmoid'], \n",
    "    'hidden_layers': [2], \n",
    "    'hidden_layers_neurons': [300], \n",
    "    'loss': ['binary_crossentropy'], \n",
    "    'optimizer': ['adam'], \n",
    "    'output_layer_activation': ['sigmoid'], \n",
    "    'rnn_hidden_layers': [1], \n",
    "    'rnn_hidden_layers_neurons': [50], \n",
    "    'rnn_layer_activation': ['sigmoid']\n",
    "}\n",
    "n_batches        = X_train.shape[0]\n",
    "batch_size       = X_train.shape[1]\n",
    "n_features       = X_train.shape[2]\n",
    "\n",
    "out_dir = \"data/generated/\"\n",
    "print(n_batches, batch_size, n_features)\n",
    "checkpoint_dir = out_dir+\"gru_paysim_2_rnn_layers_no_l1_checkpoints.h5\"\n",
    "model_dir = out_dir+\"gru_paysim_2_rnn_layers_no_l1.h5\"\n",
    "\n",
    "print(checkpoint_dir)\n",
    "print(model_dir)\n",
    "\n",
    "\n",
    "gru_model = RNNModel(\n",
    "  input_shape=( batch_size , n_features  ),\n",
    "  output_dim = 1,\n",
    "  param_grid=gru_param_grid,\n",
    "  scoring=['accuracy', 'precision', 'recall', 'roc_auc', 'f1', 'average_precision' ],  \n",
    "  refit= \"recall\",   \n",
    "  verbose=1,\n",
    "  output_file= checkpoint_dir,\n",
    "  early_stopping_monitor=\"val_recall\",\n",
    "  model_checkpoint_monitor=\"val_recall\"\n",
    ")\n",
    "\n",
    "gru_history = gru_model.train( X_train, y_train, X_test, y_test, class_weights=None )\n",
    "print(\"SAVING..\")\n",
    "gru_model.model.best_estimator_.model.save( model_dir )"
   ]
  },
  {
   "cell_type": "code",
   "execution_count": null,
   "metadata": {},
   "outputs": [],
   "source": [
    "X_train.shape"
   ]
  },
  {
   "cell_type": "code",
   "execution_count": null,
   "metadata": {},
   "outputs": [],
   "source": []
  }
 ],
 "metadata": {
  "kernelspec": {
   "display_name": "Verafin MITACS 2020",
   "language": "python",
   "name": "verafin-mitacs-2020"
  },
  "language_info": {
   "codemirror_mode": {
    "name": "ipython",
    "version": 3
   },
   "file_extension": ".py",
   "mimetype": "text/x-python",
   "name": "python",
   "nbconvert_exporter": "python",
   "pygments_lexer": "ipython3",
   "version": "3.6.10"
  }
 },
 "nbformat": 4,
 "nbformat_minor": 4
}
